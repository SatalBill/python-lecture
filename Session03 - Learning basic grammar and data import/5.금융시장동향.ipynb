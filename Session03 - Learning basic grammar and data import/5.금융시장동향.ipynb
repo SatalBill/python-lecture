{
 "cells": [
  {
   "cell_type": "markdown",
   "metadata": {},
   "source": [
    "### Data load from pdf"
   ]
  },
  {
   "cell_type": "code",
   "execution_count": 6,
   "metadata": {},
   "outputs": [],
   "source": [
    "#table,표를 다룰 때 사용하는 모듈\n",
    "import tabula \n",
    "#pdf 에서 표를 읽을 때 필요한 모듈, wrapper.read_pdf 로 사용\n",
    "from tabula import wrapper "
   ]
  },
  {
   "cell_type": "code",
   "execution_count": 9,
   "metadata": {},
   "outputs": [],
   "source": [
    "tables = wrapper.read_pdf(\"../dataset/190719_금융시장동향(오후).pdf\",\n",
    "                 multiple_tables=True,\n",
    "                 pages=\"all\",\n",
    "                 pandas_options={\"header\":0})"
   ]
  },
  {
   "cell_type": "code",
   "execution_count": 46,
   "metadata": {},
   "outputs": [
    {
     "data": {
      "text/plain": [
       "list"
      ]
     },
     "execution_count": 46,
     "metadata": {},
     "output_type": "execute_result"
    }
   ],
   "source": [
    "type(tables)"
   ]
  },
  {
   "cell_type": "code",
   "execution_count": 48,
   "metadata": {},
   "outputs": [
    {
     "data": {
      "text/html": [
       "<div>\n",
       "<style scoped>\n",
       "    .dataframe tbody tr th:only-of-type {\n",
       "        vertical-align: middle;\n",
       "    }\n",
       "\n",
       "    .dataframe tbody tr th {\n",
       "        vertical-align: top;\n",
       "    }\n",
       "\n",
       "    .dataframe thead th {\n",
       "        text-align: right;\n",
       "    }\n",
       "</style>\n",
       "<table border=\"1\" class=\"dataframe\">\n",
       "  <thead>\n",
       "    <tr style=\"text-align: right;\">\n",
       "      <th></th>\n",
       "      <th>(단위:pt)</th>\n",
       "      <th>18년말</th>\n",
       "      <th>7.12</th>\n",
       "      <th>7.18</th>\n",
       "      <th>7.19</th>\n",
       "      <th>전일비</th>\n",
       "      <th>전주비</th>\n",
       "      <th>18년말비</th>\n",
       "    </tr>\n",
       "  </thead>\n",
       "  <tbody>\n",
       "    <tr>\n",
       "      <th>0</th>\n",
       "      <td>KOSPI</td>\n",
       "      <td>2,041</td>\n",
       "      <td>2,087</td>\n",
       "      <td>2,067</td>\n",
       "      <td>2,094</td>\n",
       "      <td>+1.3%</td>\n",
       "      <td>+0.4%</td>\n",
       "      <td>+2.6%</td>\n",
       "    </tr>\n",
       "    <tr>\n",
       "      <th>1</th>\n",
       "      <td>KOSDAQ</td>\n",
       "      <td>676</td>\n",
       "      <td>681</td>\n",
       "      <td>665</td>\n",
       "      <td>674</td>\n",
       "      <td>+1.3%</td>\n",
       "      <td>△1.0%</td>\n",
       "      <td>△0.2%</td>\n",
       "    </tr>\n",
       "  </tbody>\n",
       "</table>\n",
       "</div>"
      ],
      "text/plain": [
       "  (단위:pt)   18년말   7.12   7.18   7.19    전일비    전주비  18년말비\n",
       "0   KOSPI  2,041  2,087  2,067  2,094  +1.3%  +0.4%  +2.6%\n",
       "1  KOSDAQ    676    681    665    674  +1.3%  △1.0%  △0.2%"
      ]
     },
     "execution_count": 48,
     "metadata": {},
     "output_type": "execute_result"
    }
   ],
   "source": [
    "tables[0]"
   ]
  },
  {
   "cell_type": "code",
   "execution_count": 24,
   "metadata": {},
   "outputs": [],
   "source": [
    "from datetime import datetime\n",
    "\n",
    "today = datetime.today()\n",
    "\n",
    "currentyear = today.year\n",
    "currentmonth = today.month\n",
    "currentday = today.day\n",
    "\n",
    "currentdate = str(currentyear)+str(currentmonth)+str(currentday)"
   ]
  },
  {
   "cell_type": "markdown",
   "metadata": {},
   "source": [
    "### 3. 파일로 저장"
   ]
  },
  {
   "cell_type": "code",
   "execution_count": 44,
   "metadata": {},
   "outputs": [],
   "source": [
    "for i in range(0, len(tables)):\n",
    "    filename = currentdate + \"_금융시장동향_\" + str(i) + \".csv\"\n",
    "    tables[i].to_csv(\"./\"+filename, index=False, encoding=\"ms949\")"
   ]
  }
 ],
 "metadata": {
  "kernelspec": {
   "display_name": "Python 3",
   "language": "python",
   "name": "python3"
  },
  "language_info": {
   "codemirror_mode": {
    "name": "ipython",
    "version": 3
   },
   "file_extension": ".py",
   "mimetype": "text/x-python",
   "name": "python",
   "nbconvert_exporter": "python",
   "pygments_lexer": "ipython3",
   "version": "3.7.3"
  }
 },
 "nbformat": 4,
 "nbformat_minor": 2
}
