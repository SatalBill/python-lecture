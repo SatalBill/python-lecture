{
 "cells": [
  {
   "cell_type": "markdown",
   "metadata": {},
   "source": [
    "### Data load from web"
   ]
  },
  {
   "cell_type": "code",
   "execution_count": 4,
   "metadata": {},
   "outputs": [
    {
     "data": {
      "text/plain": [
       "<!DOCTYPE html>\n",
       "\n",
       "<html lang=\"ko-KR\">\n",
       "<head>\n",
       "<meta charset=\"utf-8\"/>\n",
       "<meta content=\"width=device-width, initial-scale=1\" name=\"viewport\"/>\n",
       "<link href=\"http://gmpg.org/xfn/11\" rel=\"profile\"/>\n",
       "<link href=\"https://sparkkorea.com/xmlrpc.php\" rel=\"pingback\"/>\n",
       "<title>퀴즈 – 폴리텍대  스마트금융과</title>\n",
       "<!-- Async WordPress.com Remote Login -->\n",
       "<script id=\"wpcom_remote_login_js\">\n",
       "var wpcom_remote_login_extra_auth = '';\n",
       "function wpcom_remote_login_remove_dom_node_id( element_id ) {\n",
       "\tvar dom_node = document.getElementById( element_id );\n",
       "\tif ( dom_node ) { dom_node.remove(); }\n",
       "}\n",
       "function wpcom_remote_login_remove_dom_node_classes( class_name ) {\n",
       "\tvar dom_nodes = document.querySelectorAll( '.' + class_name );\n",
       "\tfor ( var i = 0; i < dom_nodes.length; i++ ) {\n",
       "\t\tdom_nodes[i].remove();\n",
       "\t}\n",
       "}\n",
       "function wpcom_remote_login_final_cleanup() {\n",
       "\twpcom_remote_login_remove_dom_node_classes( \"wpcom_remote_login_msg\" );\n",
       "\twpcom_remote_login_remove_dom_node_id( \"wpcom_remote_login_key\" );\n",
       "\twpcom_remote_login_remove_dom_node_id( \"wpcom_remote_login_validate\" );\n",
       "\twpcom_remote_login_remove_dom_node_id( \"wpcom_remote_login_js\" );\n",
       "\twpcom_remote_login_remove_dom_node_id( \"wpcom_request_access_iframe\" );\n",
       "\twpcom_remote_login_remove_dom_node_id( \"wpcom_request_access_styles\" );\n",
       "}\n",
       "\n",
       "// Watch for messages back from the remote login\n",
       "window.addEventListener( \"message\", function( e ) {\n",
       "\tif ( e.origin === \"https://r-login.wordpress.com\" ) {\n",
       "\t\tvar data = {};\n",
       "\t\ttry {\n",
       "\t\t\tdata = JSON.parse( e.data );\n",
       "\t\t} catch( e ) {\n",
       "\t\t\twpcom_remote_login_final_cleanup();\n",
       "\t\t\treturn;\n",
       "\t\t}\n",
       "\n",
       "\t\tif ( data.msg === 'LOGIN' ) {\n",
       "\t\t\t// Clean up the login check iframe\n",
       "\t\t\twpcom_remote_login_remove_dom_node_id( \"wpcom_remote_login_key\" );\n",
       "\n",
       "\t\t\tvar id_regex = new RegExp( /^[0-9]+$/ );\n",
       "\t\t\tvar token_regex = new RegExp( /^.*|.*|.*$/ );\n",
       "\t\t\tif (\n",
       "\t\t\t\ttoken_regex.test( data.token )\n",
       "\t\t\t\t&& id_regex.test( data.wpcomid )\n",
       "\t\t\t) {\n",
       "\t\t\t\t// We have everything we need to ask for a login\n",
       "\t\t\t\tvar script = document.createElement( \"script\" );\n",
       "\t\t\t\tscript.setAttribute( \"id\", \"wpcom_remote_login_validate\" );\n",
       "\t\t\t\tscript.src = '/remote-login.php?wpcom_remote_login=validate'\n",
       "\t\t\t\t\t+ '&wpcomid=' + data.wpcomid\n",
       "\t\t\t\t\t+ '&token=' + encodeURIComponent( data.token )\n",
       "\t\t\t\t\t+ '&host=' + window.location.protocol\n",
       "\t\t\t\t\t\t+ '//' + window.location.hostname;\n",
       "\t\t\t\tdocument.body.appendChild( script );\n",
       "\t\t\t}\n",
       "\n",
       "\t\t\treturn;\n",
       "\t\t}\n",
       "\n",
       "\t\t// Safari ITP, not logged in, so redirect\n",
       "\t\tif ( data.msg === 'LOGIN-REDIRECT' ) {\n",
       "\t\t\twindow.location = 'https://wordpress.com/log-in?redirect_to=' + window.location.href;\n",
       "\t\t\treturn;\n",
       "\t\t}\n",
       "\n",
       "\t\t// Safari ITP, storage access failed, remove the request\n",
       "\t\tif ( data.msg === 'LOGIN-REMOVE' ) {\n",
       "\t\t\tvar css_zap = 'html { -webkit-transition: margin-top 1s; transition: margin-top 1s; } /* 9001 */ html { margin-top: 0 !important; } * html body { margin-top: 0 !important; } @media screen and ( max-width: 782px ) { html { margin-top: 0 !important; } * html body { margin-top: 0 !important; } }';\n",
       "\t\t\tvar style_zap = document.createElement( 'style' );\n",
       "\t\t\tstyle_zap.type = 'text/css';\n",
       "\t\t\tstyle_zap.appendChild( document.createTextNode( css_zap ) );\n",
       "\t\t\tdocument.body.appendChild( style_zap );\n",
       "\n",
       "\t\t\tvar e = document.getElementById( 'wpcom_request_access_iframe' );\n",
       "\t\t\te.parentNode.removeChild( e );\n",
       "\n",
       "\t\t\tdocument.cookie = 'wordpress_com_login_access=denied; path=/; max-age=31536000';\n",
       "\n",
       "\t\t\treturn;\n",
       "\t\t}\n",
       "\n",
       "\t\t// Safari ITP\n",
       "\t\tif ( data.msg === 'REQUEST_ACCESS' ) {\n",
       "\t\t\tconsole.log( 'request access: safari' );\n",
       "\n",
       "\t\t\t// Check ITP iframe enable/disable knob\n",
       "\t\t\tif ( wpcom_remote_login_extra_auth !== 'safari_itp_iframe' ) {\n",
       "\t\t\t\treturn;\n",
       "\t\t\t}\n",
       "\n",
       "\t\t\t// If we are in a \"private window\" there is no ITP.\n",
       "\t\t\tvar private_window = false;\n",
       "\t\t\ttry {\n",
       "\t\t\t\tvar opendb = window.openDatabase( null, null, null, null );\n",
       "\t\t\t} catch( e ) {\n",
       "\t\t\t\tprivate_window = true;\n",
       "\t\t\t}\n",
       "\n",
       "\t\t\tif ( private_window ) {\n",
       "\t\t\t\tconsole.log( 'private window' );\n",
       "\t\t\t\treturn;\n",
       "\t\t\t}\n",
       "\n",
       "\t\t\tvar iframe = document.createElement( 'iframe' );\n",
       "\t\t\tiframe.id = 'wpcom_request_access_iframe';\n",
       "\t\t\tiframe.setAttribute( 'scrolling', 'no' );\n",
       "\t\t\tiframe.setAttribute( 'sandbox', 'allow-storage-access-by-user-activation allow-scripts allow-same-origin allow-top-navigation-by-user-activation' );\n",
       "\t\t\tiframe.src = 'https://r-login.wordpress.com/remote-login.php?wpcom_remote_login=request_access&origin=' + encodeURIComponent( data.origin ) + '&wpcomid=' + encodeURIComponent( data.wpcomid );\n",
       "\n",
       "\t\t\tvar css = 'html { -webkit-transition: margin-top 1s; transition: margin-top 1s; } /* 9001 */ html { margin-top: 46px !important; } * html body { margin-top: 46px !important; } @media screen and ( max-width: 660px ) { html { margin-top: 71px !important; } * html body { margin-top: 71px !important; } #wpcom_request_access_iframe { display: block; height: 71px !important; } } #wpcom_request_access_iframe { border: 0px; height: 46px; position: fixed; top: 0; left: 0; width: 100%; min-width: 100%; z-index: 99999; background: #23282d; } ';\n",
       "\n",
       "\t\t\tvar style = document.createElement( 'style' );\n",
       "\t\t\tstyle.type = 'text/css';\n",
       "\t\t\tstyle.id = 'wpcom_request_access_styles';\n",
       "\t\t\tstyle.appendChild( document.createTextNode( css ) );\n",
       "\t\t\tdocument.body.appendChild( style );\n",
       "\n",
       "\t\t\tdocument.body.appendChild( iframe );\n",
       "\t\t}\n",
       "\n",
       "\t\tif ( data.msg === 'DONE' ) {\n",
       "\t\t\twpcom_remote_login_final_cleanup();\n",
       "\t\t}\n",
       "\t}\n",
       "}, false );\n",
       "\n",
       "// Inject the remote login iframe after the page has had a chance to load\n",
       "// more critical resources\n",
       "window.addEventListener( \"DOMContentLoaded\", function( e ) {\n",
       "\tvar iframe = document.createElement( \"iframe\" );\n",
       "\tiframe.style.display = \"none\";\n",
       "\tiframe.setAttribute( \"scrolling\", \"no\" );\n",
       "\tiframe.setAttribute( \"id\", \"wpcom_remote_login_key\" );\n",
       "\tiframe.src = \"https://r-login.wordpress.com/remote-login.php\"\n",
       "\t\t+ \"?wpcom_remote_login=key\"\n",
       "\t\t+ \"&origin=aHR0cHM6Ly9zcGFya2tvcmVhLmNvbQ%3D%3D\"\n",
       "\t\t+ \"&wpcomid=163927570\"\n",
       "\t\t+ \"&time=1563108236\";\n",
       "\tdocument.body.appendChild( iframe );\n",
       "}, false );\n",
       "</script>\n",
       "<link href=\"//s2.wp.com\" rel=\"dns-prefetch\">\n",
       "<link href=\"//s1.wp.com\" rel=\"dns-prefetch\">\n",
       "<link href=\"//sparkkorea.wordpress.com\" rel=\"dns-prefetch\"/>\n",
       "<link href=\"//s0.wp.com\" rel=\"dns-prefetch\"/>\n",
       "<link href=\"//wordpress.com\" rel=\"dns-prefetch\"/>\n",
       "<link href=\"//fonts.googleapis.com\" rel=\"dns-prefetch\"/>\n",
       "<link href=\"https://sparkkorea.com/feed/\" rel=\"alternate\" title=\"폴리텍대  스마트금융과 » 피드\" type=\"application/rss+xml\"/>\n",
       "<link href=\"https://sparkkorea.com/comments/feed/\" rel=\"alternate\" title=\"폴리텍대  스마트금융과 » 댓글 피드\" type=\"application/rss+xml\"/>\n",
       "<script type=\"text/javascript\">\n",
       "\t\t/* <![CDATA[ */\n",
       "\t\tfunction addLoadEvent(func) {\n",
       "\t\t\tvar oldonload = window.onload;\n",
       "\t\t\tif (typeof window.onload != 'function') {\n",
       "\t\t\t\twindow.onload = func;\n",
       "\t\t\t} else {\n",
       "\t\t\t\twindow.onload = function () {\n",
       "\t\t\t\t\toldonload();\n",
       "\t\t\t\t\tfunc();\n",
       "\t\t\t\t}\n",
       "\t\t\t}\n",
       "\t\t}\n",
       "\t\t/* ]]> */\n",
       "\t</script>\n",
       "<script type=\"text/javascript\">\n",
       "\t\t\twindow._wpemojiSettings = {\"baseUrl\":\"https:\\/\\/s0.wp.com\\/wp-content\\/mu-plugins\\/wpcom-smileys\\/twemoji\\/2\\/72x72\\/\",\"ext\":\".png\",\"svgUrl\":\"https:\\/\\/s0.wp.com\\/wp-content\\/mu-plugins\\/wpcom-smileys\\/twemoji\\/2\\/svg\\/\",\"svgExt\":\".svg\",\"source\":{\"concatemoji\":\"https:\\/\\/s2.wp.com\\/wp-includes\\/js\\/wp-emoji-release.min.js?m=1556893897h&ver=5.2.2\"}};\n",
       "\t\t\t!function(a,b,c){function d(a,b){var c=String.fromCharCode;l.clearRect(0,0,k.width,k.height),l.fillText(c.apply(this,a),0,0);var d=k.toDataURL();l.clearRect(0,0,k.width,k.height),l.fillText(c.apply(this,b),0,0);var e=k.toDataURL();return d===e}function e(a){var b;if(!l||!l.fillText)return!1;switch(l.textBaseline=\"top\",l.font=\"600 32px Arial\",a){case\"flag\":return!(b=d([55356,56826,55356,56819],[55356,56826,8203,55356,56819]))&&(b=d([55356,57332,56128,56423,56128,56418,56128,56421,56128,56430,56128,56423,56128,56447],[55356,57332,8203,56128,56423,8203,56128,56418,8203,56128,56421,8203,56128,56430,8203,56128,56423,8203,56128,56447]),!b);case\"emoji\":return b=d([55357,56424,55356,57342,8205,55358,56605,8205,55357,56424,55356,57340],[55357,56424,55356,57342,8203,55358,56605,8203,55357,56424,55356,57340]),!b}return!1}function f(a){var c=b.createElement(\"script\");c.src=a,c.defer=c.type=\"text/javascript\",b.getElementsByTagName(\"head\")[0].appendChild(c)}var g,h,i,j,k=b.createElement(\"canvas\"),l=k.getContext&&k.getContext(\"2d\");for(j=Array(\"flag\",\"emoji\"),c.supports={everything:!0,everythingExceptFlag:!0},i=0;i<j.length;i++)c.supports[j[i]]=e(j[i]),c.supports.everything=c.supports.everything&&c.supports[j[i]],\"flag\"!==j[i]&&(c.supports.everythingExceptFlag=c.supports.everythingExceptFlag&&c.supports[j[i]]);c.supports.everythingExceptFlag=c.supports.everythingExceptFlag&&!c.supports.flag,c.DOMReady=!1,c.readyCallback=function(){c.DOMReady=!0},c.supports.everything||(h=function(){c.readyCallback()},b.addEventListener?(b.addEventListener(\"DOMContentLoaded\",h,!1),a.addEventListener(\"load\",h,!1)):(a.attachEvent(\"onload\",h),b.attachEvent(\"onreadystatechange\",function(){\"complete\"===b.readyState&&c.readyCallback()})),g=c.source||{},g.concatemoji?f(g.concatemoji):g.wpemoji&&g.twemoji&&(f(g.twemoji),f(g.wpemoji)))}(window,document,window._wpemojiSettings);\n",
       "\t\t</script>\n",
       "<style type=\"text/css\">\n",
       "img.wp-smiley,\n",
       "img.emoji {\n",
       "\tdisplay: inline !important;\n",
       "\tborder: none !important;\n",
       "\tbox-shadow: none !important;\n",
       "\theight: 1em !important;\n",
       "\twidth: 1em !important;\n",
       "\tmargin: 0 .07em !important;\n",
       "\tvertical-align: -0.1em !important;\n",
       "\tbackground: none !important;\n",
       "\tpadding: 0 !important;\n",
       "}\n",
       "</style>\n",
       "<link href=\"https://s0.wp.com/_static/??-eJyNkdFuwjAMRX9owXQSIB6mfUubemCIk6h2hPr3c1OKBEIVL5Fz7eNcO3DLzqeoGBW4uBzKiaLALfvETpgCji+3jRf5gvdYoCsKXFBz66+u3h7lFH0ovaVNgJ5EoQupVnVDO4wgOgbcMMWPCT0jPxOLpcXPXwnBCSk67Ekpnu5OISdRsUairvac27+qa6P6NKDpnFudKtgeaDGYoahrGOf9Qk3h2fa0utF59V2XBxRxdjIVdnXyVc6oycr8B3WBT8qMEsSkZLQ8ginxyz/Nbnf8bg7NcXv5B/hEzNY=?cssminify=yes\" id=\"all-css-0-1\" media=\"all\" rel=\"stylesheet\" type=\"text/css\"/>\n",
       "<link href=\"https://fonts.googleapis.com/css?family=Lato%3A400%2C400italic%2C700%2C700italic%7CNoto+Serif%3A400%2C400italic%2C700%2C700italic&amp;subset=latin%2Clatin-ext\" id=\"dyad-2-fonts-css\" media=\"all\" rel=\"stylesheet\" type=\"text/css\"/>\n",
       "<link href=\"https://s0.wp.com/_static/??-eJyNj80KwjAQhF/IdRuhqAfxWdJ0jdFkE/JD6ds36kGLtPQ2w843zOIQQHnOxBldgWCLNpxQE1M09bAg9yqlHf6w+U6OEobSYT/KHg6Y8mhpQ64msLNePbeUGlafYhiC8u6PmL3godbKbDzPDNysNHENjVQH6Sr1e93XvqCru4i2bcTpLJrjYwIqr3Yq?cssminify=yes\" id=\"all-css-2-1\" media=\"all\" rel=\"stylesheet\" type=\"text/css\"/>\n",
       "<link href=\"https://s2.wp.com/wp-content/mu-plugins/global-print/global-print.css?m=1465851035h&amp;cssminify=yes\" id=\"print-css-3-1\" media=\"print\" rel=\"stylesheet\" type=\"text/css\"/>\n",
       "<link href=\"https://s1.wp.com/_static/??-eJx9i9EKwjAMRX/IGgfbYA/it2SlayNpUpoMf198EBmKT/dcOAceLUQVT+JQ99B4zyQGGJ1UVuwfOkezE/zWm5qHjZE6WMFOkt/7rzKNhBxYsx7PV+Ql1WRQRsisK/JLuNXrMM2XcV6GZbo/AcVpSbo=?cssminify=yes\" id=\"all-css-4-1\" media=\"all\" rel=\"stylesheet\" type=\"text/css\"/>\n",
       "<script src=\"https://s2.wp.com/_static/??-eJyFztEKwjAMBdAfsisyOnwRv6XWOFKXtDbphn69HeiDMBQC9+EeuLFLNshhqhcQG9vdK5THO7ooO/sLGMKxeIWOkD84JFZgXW1OogQifoSNltIZJzBVoDTA2mauacN9v4Q8Iyx/WQTNPtxMAcHnun6i4965Q++GwfXxBTkPW9k=\" type=\"text/javascript\"></script>\n",
       "<link href=\"https://sparkkorea.wordpress.com/xmlrpc.php?rsd\" rel=\"EditURI\" title=\"RSD\" type=\"application/rsd+xml\"/>\n",
       "<link href=\"https://s1.wp.com/wp-includes/wlwmanifest.xml\" rel=\"wlwmanifest\" type=\"application/wlwmanifest+xml\"/>\n",
       "<meta content=\"WordPress.com\" name=\"generator\">\n",
       "<link href=\"https://sparkkorea.com/%ed%80%b4%ec%a6%88/\" rel=\"canonical\"/>\n",
       "<link href=\"https://wp.me/Pb5P34-1E\" rel=\"shortlink\"/>\n",
       "<link href=\"https://public-api.wordpress.com/oembed/?format=json&amp;url=https%3A%2F%2Fsparkkorea.com%2F%25ed%2580%25b4%25ec%25a6%2588%2F&amp;for=wpcom-auto-discovery\" rel=\"alternate\" type=\"application/json+oembed\"/><link href=\"https://public-api.wordpress.com/oembed/?format=xml&amp;url=https%3A%2F%2Fsparkkorea.com%2F%25ed%2580%25b4%25ec%25a6%2588%2F&amp;for=wpcom-auto-discovery\" rel=\"alternate\" type=\"application/xml+oembed\"/>\n",
       "<!-- Jetpack Open Graph Tags -->\n",
       "<meta content=\"article\" property=\"og:type\">\n",
       "<meta content=\"퀴즈\" property=\"og:title\"/>\n",
       "<meta content=\"https://sparkkorea.com/%ed%80%b4%ec%a6%88/\" property=\"og:url\"/>\n",
       "<meta content=\"크롤링 웹 크롤링 퀴즈 설문 Spark 퀴즈 6/13 Spark 심화과정 6/13 Spark 기본과정 6/18 Spark [MAP_FILTER] 6/18 Spark GroupBy 심화 6/25 Spark RDD 실전 분석 6/27 Spark RDD 실전 분석2 Python 퀴즈 1. 빅데이터 분석개요 및 파이썬프로그래밍 2. 파이썬 자료형 및 파일 데…\" property=\"og:description\"/>\n",
       "<meta content=\"2019-07-08T09:35:27+00:00\" property=\"article:published_time\"/>\n",
       "<meta content=\"2019-07-12T01:13:35+00:00\" property=\"article:modified_time\"/>\n",
       "<meta content=\"폴리텍대  스마트금융과\" property=\"og:site_name\"/>\n",
       "<meta content=\"https://s0.wp.com/i/blank.jpg\" property=\"og:image\"/>\n",
       "<meta content=\"ko_KR\" property=\"og:locale\"/>\n",
       "<meta content=\"@wordpressdotcom\" name=\"twitter:site\"/>\n",
       "<meta content=\"퀴즈\" name=\"twitter:text:title\"/>\n",
       "<meta content=\"summary\" name=\"twitter:card\"/>\n",
       "<meta content=\"https://www.facebook.com/WordPresscom\" property=\"article:publisher\"/>\n",
       "<!-- End Jetpack Open Graph Tags -->\n",
       "<link href=\"https://s1.wp.com/i/favicon.ico\" rel=\"shortcut icon\" sizes=\"16x16 24x24 32x32 48x48\" type=\"image/x-icon\"/>\n",
       "<link href=\"https://s1.wp.com/i/favicon.ico\" rel=\"icon\" sizes=\"16x16 24x24 32x32 48x48\" type=\"image/x-icon\"/>\n",
       "<link href=\"https://s2.wp.com/i/webclip.png\" rel=\"apple-touch-icon-precomposed\"/>\n",
       "<link href=\"https://sparkkorea.com/osd.xml\" rel=\"search\" title=\"폴리텍대  스마트금융과\" type=\"application/opensearchdescription+xml\"/>\n",
       "<link href=\"https://s1.wp.com/opensearch.xml\" rel=\"search\" title=\"WordPress.com\" type=\"application/opensearchdescription+xml\"/>\n",
       "<meta content=\"폴리텍대  스마트금융과\" name=\"application-name\"/><meta content=\"width=device-width;height=device-height\" name=\"msapplication-window\"/><meta content=\"스마트금융과 자료공유\" name=\"msapplication-tooltip\"/><meta content=\"name=구독;action-uri=https://sparkkorea.com/feed/;icon-uri=https://s1.wp.com/i/favicon.ico\" name=\"msapplication-task\"/><meta content=\"name=무료 블로그 등록;action-uri=http://wordpress.com/signup/;icon-uri=https://s1.wp.com/i/favicon.ico\" name=\"msapplication-task\"/><meta content=\"name=WordPress.com 지원;action-uri=http://support.wordpress.com/;icon-uri=https://s1.wp.com/i/favicon.ico\" name=\"msapplication-task\"/><meta content=\"name=WordPress.com 포럼;action-uri=http://forums.wordpress.com/;icon-uri=https://s1.wp.com/i/favicon.ico\" name=\"msapplication-task\"/><meta content=\"크롤링 웹 크롤링 퀴즈 설문 Spark 퀴즈 6/13 Spark 심화과정 6/13 Spark 기본과정 6/18 Spark [MAP_FILTER] 6/18 Spark GroupBy 심화 6/25 Spark RDD 실전 분석 6/27 Spark RDD 실전 분석2 Python 퀴즈 1. 빅데이터 분석개요 및 파이썬프로그래밍 2. 파이썬 자료형 및 파일 데이터 불러오기 3. 파이썬 자료형 복습 4. 파이썬 문법 및 데이터 불러오기 5.…\" name=\"description\"/>\n",
       "<style id=\"syntaxhighlighteranchor\" type=\"text/css\"></style>\n",
       "</meta></meta></link></link></head>\n",
       "<body class=\"page-template-default page page-id-102 wp-embed-responsive mp6 customizer-styles-applied is-singular no-js highlander-enabled highlander-light\">\n",
       "<div class=\"hfeed site\" id=\"page\">\n",
       "<a class=\"skip-link screen-reader-text\" href=\"#content\">컨텐츠로 건너뛰기</a>\n",
       "<header class=\"site-header\" id=\"masthead\" role=\"banner\">\n",
       "<div class=\"site-branding\">\n",
       "<h1 class=\"site-title\">\n",
       "<a href=\"https://sparkkorea.com/\" rel=\"home\">\n",
       "\t\t\t\t\t폴리텍대  스마트금융과\t\t\t\t</a>\n",
       "</h1>\n",
       "<p class=\"site-description\">스마트금융과 자료공유</p>\n",
       "</div><!-- .site-branding -->\n",
       "<nav class=\"main-navigation\" id=\"site-navigation\" role=\"navigation\">\n",
       "<button aria-controls=\"primary-menu\" aria-expanded=\"false\" class=\"menu-toggle\">메뉴</button>\n",
       "<div class=\"primary-menu\"><ul class=\"menu\" id=\"primary-menu\"><li class=\"menu-item menu-item-type-post_type menu-item-object-page menu-item-privacy-policy menu-item-28\" id=\"menu-item-28\"><a href=\"https://sparkkorea.com/%ed%80%b4%ec%a6%88/\">설문</a></li>\n",
       "<li class=\"menu-item menu-item-type-post_type menu-item-object-page menu-item-27\" id=\"menu-item-27\"><a href=\"https://sparkkorea.com/%ec%9e%90%eb%a3%8c%ec%8b%a4/\">자료실</a></li>\n",
       "<li class=\"menu-item menu-item-type-post_type menu-item-object-page current-menu-item page_item page-item-102 current_page_item menu-item-106\" id=\"menu-item-106\"><a aria-current=\"page\" href=\"https://sparkkorea.com/%ed%80%b4%ec%a6%88/\">퀴즈</a></li>\n",
       "<li class=\"menu-item menu-item-type-post_type menu-item-object-page menu-item-121\" id=\"menu-item-121\"><a href=\"https://sparkkorea.com/%ed%85%8c%ec%8a%a4%ed%8a%b8/\">테스트</a></li>\n",
       "</ul></div> </nav>\n",
       "</header><!-- #masthead -->\n",
       "<div class=\"site-inner\">\n",
       "<div class=\"site-content\" id=\"content\">\n",
       "<main class=\"content-area\" id=\"primary\" role=\"main\">\n",
       "<article class=\"post-102 page type-page status-publish hentry\" id=\"post-102\">\n",
       "<div class=\"entry-inner\">\n",
       "<header class=\"entry-header\">\n",
       "<h1 class=\"entry-title\">퀴즈</h1> </header><!-- .entry-header -->\n",
       "<div class=\"entry-content\">\n",
       "<div class=\"class_general_quiz\" id=\"id_general_quiz\">\n",
       "<h1>크롤링 </h1>\n",
       "<a href=\"https://forms.gle/WVhsH6oRdQVndYX59\"> 웹 크롤링 퀴즈 설문 </a>\n",
       "<p></p>\n",
       "<p></p>\n",
       "</div>\n",
       "<div class=\"class_spark_quiz\" id=\"id_spark_quiz\">\n",
       "<h1>Spark 퀴즈 </h1>\n",
       "<a href=\"https://forms.gle/Fw49w9GhWQChDcZm7\"> 6/13 Spark 심화과정 </a>\n",
       "<p></p>\n",
       "<a href=\"https://forms.gle/G4TcXm3fKuHLHA6D6\"> 6/13 Spark 기본과정 </a>\n",
       "<p></p>\n",
       "<a href=\"https://forms.gle/M8gr1kC2ubA3UDVp8\"> 6/18 Spark [MAP_FILTER] </a>\n",
       "<p></p>\n",
       "<a href=\"https://forms.gle/h8w5mZ4MNaPLCPbi6\"> 6/18 Spark GroupBy 심화 </a>\n",
       "<p></p>\n",
       "<a href=\"https://forms.gle/q5yL6QHfueDLM5w27\"> 6/25 Spark RDD 실전 분석 </a>\n",
       "<p></p>\n",
       "<a href=\"https://forms.gle/Gxb4y6LfVYiaLu4M7\"> 6/27 Spark RDD 실전 분석2 </a>\n",
       "<p></p>\n",
       "</div>\n",
       "<div class=\"class_py_quiz\" id=\"id_py_quiz\">\n",
       "<h1>Python 퀴즈 </h1>\n",
       "<a href=\"https://goo.gl/forms/BLiJDnHCC8MDoHr82\"> 1. 빅데이터 분석개요 및 파이썬프로그래밍</a>\n",
       "<p></p>\n",
       "<a href=\"https://goo.gl/forms/bTvHsy0PY3am0BCq2\"> 2. 파이썬 자료형 및 파일 데이터 불러오기 </a>\n",
       "<p></p>\n",
       "<a href=\"https://goo.gl/forms/ylZZiZUHfMxm7etJ3\"> 3. 파이썬 자료형 복습 </a>\n",
       "<p></p>\n",
       "<a href=\"https://goo.gl/forms/bGl0bgpmmqLKyEHI3\"> 4. 파이썬 문법 및 데이터 불러오기 </a>\n",
       "<p></p>\n",
       "<a href=\"https://goo.gl/forms/TtbUdSHNSOmFdIUN2\"> 5. 파이썬 문법 응용 </a>\n",
       "<p></p>\n",
       "<a href=\"https://forms.gle/SMgrtcifZLKr5JNZA\"> 파이썬 코드리뷰 </a>\n",
       "<p></p>\n",
       "<a href=\"https://forms.gle/Ep3PTfsTmk3pkdhK7\"> 파이썬 스크랩관련 설문 </a>\n",
       "<p></p>\n",
       "</div>\n",
       "<div class=\"sharedaddy sd-like-enabled sd-sharing-enabled\" id=\"jp-post-flair\"><div class=\"sharedaddy sd-sharing-enabled\"><div class=\"robots-nocontent sd-block sd-social sd-social-icon-text sd-sharing\"><h3 class=\"sd-title\">이 글 공유하기:</h3><div class=\"sd-content\"><ul><li class=\"share-twitter\"><a class=\"share-twitter sd-button share-icon\" data-shared=\"sharing-twitter-102\" href=\"https://sparkkorea.com/%ed%80%b4%ec%a6%88/?share=twitter\" rel=\"nofollow noopener noreferrer\" target=\"_blank\" title=\"트위터로 공유하기\"><span>Twitter</span></a></li><li class=\"share-facebook\"><a class=\"share-facebook sd-button share-icon\" data-shared=\"sharing-facebook-102\" href=\"https://sparkkorea.com/%ed%80%b4%ec%a6%88/?share=facebook\" rel=\"nofollow noopener noreferrer\" target=\"_blank\" title=\"Click to share on Facebook\"><span>Facebook</span></a></li><li class=\"share-end\"></li></ul></div></div></div><div class=\"sharedaddy sd-block sd-like jetpack-likes-widget-wrapper jetpack-likes-widget-unloaded\" data-name=\"like-post-frame-163927570-102-5d2b238c1c13f\" data-src=\"//widgets.wp.com/likes/index.html?ver=20190321#blog_id=163927570&amp;post_id=102&amp;origin=sparkkorea.wordpress.com&amp;obj_id=163927570-102-5d2b238c1c13f&amp;domain=sparkkorea.com\" id=\"like-post-wrapper-163927570-102-5d2b238c1c13f\"><h3 class=\"sd-title\">이것이 좋아요:</h3><div class=\"likes-widget-placeholder post-likes-widget-placeholder\" style=\"height: 55px;\"><span class=\"button\"><span>좋아요</span></span> <span class=\"loading\">가져오는 중...</span></div><span class=\"sd-text-color\"></span><a class=\"sd-link-color\"></a></div></div> </div><!-- .entry-content -->\n",
       "</div><!-- .entry-inner -->\n",
       "</article><!-- #post-## -->\n",
       "</main><!-- #main -->\n",
       "</div><!-- #content -->\n",
       "<footer class=\"site-footer\" id=\"colophon\" role=\"contentinfo\">\n",
       "<div class=\"footer-bottom-info\">\n",
       "<div class=\"site-info\">\n",
       "<a href=\"https://wordpress.com/?ref=footer_segment_business\">A WordPress.com Website.</a>\n",
       "</div><!-- .site-info -->\n",
       "</div><!-- .footer-bottom-info -->\n",
       "</footer><!-- #colophon -->\n",
       "</div><!-- .site-inner -->\n",
       "</div><!-- #page -->\n",
       "<!-- -->\n",
       "<script src=\"//0.gravatar.com/js/gprofiles.js?ver=201928y\" type=\"text/javascript\"></script>\n",
       "<script type=\"text/javascript\">\n",
       "/* <![CDATA[ */\n",
       "var WPGroHo = {\"my_hash\":\"\"};\n",
       "/* ]]> */\n",
       "</script>\n",
       "<script src=\"https://s1.wp.com/wp-content/mu-plugins/gravatar-hovercards/wpgroho.js?m=1380573781h\" type=\"text/javascript\"></script>\n",
       "<script>\n",
       "\t\t//initialize and attach hovercards to all gravatars\n",
       "\t\tjQuery( document ).ready( function( $ ) {\n",
       "\n",
       "\t\t\tif (typeof Gravatar === \"undefined\"){\n",
       "\t\t\t\treturn;\n",
       "\t\t\t}\n",
       "\n",
       "\t\t\tif ( typeof Gravatar.init !== \"function\" ) {\n",
       "\t\t\t\treturn;\n",
       "\t\t\t}\t\t\t\n",
       "\n",
       "\t\t\tGravatar.profile_cb = function( hash, id ) {\n",
       "\t\t\t\tWPGroHo.syncProfileData( hash, id );\n",
       "\t\t\t};\n",
       "\t\t\tGravatar.my_hash = WPGroHo.my_hash;\n",
       "\t\t\tGravatar.init( 'body', '#wp-admin-bar-my-account' );\n",
       "\t\t});\n",
       "\t</script>\n",
       "<div style=\"display:none\">\n",
       "</div>\n",
       "<script type=\"text/javascript\">\n",
       "\t\twindow.WPCOM_sharing_counts = {\"https:\\/\\/sparkkorea.com\\/%ed%80%b4%ec%a6%88\\/\":102};\n",
       "\t</script>\n",
       "<script type=\"text/javascript\">\n",
       "/* <![CDATA[ */\n",
       "var comment_like_text = {\"loading\":\"\\uac00\\uc838\\uc624\\ub294 \\uc911...\"};\n",
       "/* ]]> */\n",
       "</script>\n",
       "<script type=\"text/javascript\">\n",
       "/* <![CDATA[ */\n",
       "var actionbardata = {\"siteID\":\"163927570\",\"siteName\":\"\\ud3f4\\ub9ac\\ud14d\\ub300  \\uc2a4\\ub9c8\\ud2b8\\uae08\\uc735\\uacfc\",\"siteURL\":\"https:\\/\\/sparkkorea.com\",\"icon\":\"<img alt='' src='https:\\/\\/s2.wp.com\\/i\\/logo\\/wpcom-gray-white.png' class='avatar avatar-50' height='50' width='50' \\/>\",\"canManageOptions\":\"\",\"canCustomizeSite\":\"\",\"isFollowing\":\"\",\"themeSlug\":\"pub\\/dyad-2\",\"signupURL\":\"https:\\/\\/wordpress.com\\/start\\/\",\"loginURL\":\"https:\\/\\/wordpress.com\\/log-in?redirect_to=https%3A%2F%2Fsparkkorea.com%2F%ED%80%B4%EC%A6%88%2F&signup_flow=account&domain=sparkkorea.com\",\"themeURL\":\"https:\\/\\/wordpress.com\\/theme\\/dyad-2\\/\",\"xhrURL\":\"https:\\/\\/sparkkorea.com\\/wp-admin\\/admin-ajax.php\",\"nonce\":\"abb20ea2e0\",\"isSingular\":\"1\",\"isFolded\":\"\",\"isLoggedIn\":\"\",\"isMobile\":\"\",\"subscribeNonce\":\"<input type=\\\"hidden\\\" id=\\\"_wpnonce\\\" name=\\\"_wpnonce\\\" value=\\\"8197f7b98a\\\" \\/>\",\"referer\":\"https:\\/\\/sparkkorea.com\\/%ED%80%B4%EC%A6%88\\/\",\"canFollow\":\"\",\"feedID\":\"97558616\",\"statusMessage\":\"\",\"customizeLink\":\"https:\\/\\/sparkkorea.wordpress.com\\/wp-admin\\/customize.php?url=https%3A%2F%2Fsparkkorea.wordpress.com%2F%25ED%2580%25B4%25EC%25A6%2588%2F\",\"postID\":\"102\",\"shortlink\":\"https:\\/\\/wp.me\\/Pb5P34-1E\",\"canEditPost\":\"\",\"editLink\":\"https:\\/\\/wordpress.com\\/page\\/sparkkorea.com\\/102\",\"statsLink\":\"https:\\/\\/wordpress.com\\/stats\\/post\\/102\\/sparkkorea.com\",\"i18n\":{\"view\":\"\\uc0ac\\uc774\\ud2b8 \\ubcf4\\uae30\",\"follow\":\"\\ud314\\ub85c\\uc6b0\",\"following\":\"\\ud314\\ub85c\\uc6b0\\uc911\",\"edit\":\"\\ud3b8\\uc9d1\",\"login\":\"\\ub85c\\uadf8\\uc778\",\"signup\":\"\\uac00\\uc785\",\"customize\":\"\\uc0ac\\uc6a9\\uc790 \\uc815\\uc758\\ud558\\uae30\",\"report\":\"\\uc774 \\ucf58\\ud150\\uce20 \\uc2e0\\uace0\\ud558\\uae30\",\"themeInfo\":\"\\ud14c\\ub9c8 \\uac00\\uc838\\uc624\\uae30: Dyad 2\",\"shortlink\":\"\\ub2e8\\ucd95 \\ub9c1\\ud06c \\ubcf5\\uc0ac\",\"copied\":\"\\ubcf5\\uc0ac\\ub428\",\"followedText\":\"\\uc774 \\uc0ac\\uc774\\ud2b8\\uc758 \\uc0c8 \\uae00\\uc774 \\uc774\\uc81c <a href=\\\"https:\\/\\/wordpress.com\\/\\\">\\ub274\\uc2a4\\ud53c\\ub4dc<\\/a>\\uc5d0 \\ud45c\\uc2dc\\ub429\\ub2c8\\ub2e4.\",\"foldBar\":\"\\uc774 \\ud45c\\uc2dc\\uc904 \\ucd95\\uc18c\",\"unfoldBar\":\"\\uc774 \\ud45c\\uc2dc\\uc904 \\ud655\\uc7a5\",\"editSubs\":\"\\uad6c\\ub3c5 \\uad00\\ub9ac\",\"viewReader\":\"\\ub9ac\\ub354\\uc5d0\\uc11c \\uc0ac\\uc774\\ud2b8 \\ubcf4\\uae30\",\"viewReadPost\":\"View post in Reader\",\"subscribe\":\"\\uac00\\uc785\\ud558\\uae30\",\"enterEmail\":\"\\uc774\\uba54\\uc77c \\uc8fc\\uc18c \\uc785\\ub825\",\"followers\":\"\",\"alreadyUser\":\"\\uc774\\ubbf8 \\uc6cc\\ub4dc\\ud504\\ub808\\uc2a4\\ub2f7\\ucef4 \\uacc4\\uc815\\uc744 \\uac16\\uace0 \\uacc4\\uc138\\uc694? <a href=\\\"https:\\/\\/wordpress.com\\/log-in?redirect_to=https%3A%2F%2Fsparkkorea.com%2F%ED%80%B4%EC%A6%88%2F&signup_flow=account&domain=sparkkorea.com\\\">\\uc9c0\\uae08 \\ub85c\\uadf8\\uc778\\ud558\\uc138\\uc694.<\\/a>\",\"stats\":\"\\ud1b5\\uacc4\"}};\n",
       "/* ]]> */\n",
       "</script>\n",
       "<script type=\"text/javascript\">\n",
       "/* <![CDATA[ */\n",
       "var sharing_js_options = {\"lang\":\"en\",\"counts\":\"1\",\"is_stats_active\":\"1\"};\n",
       "/* ]]> */\n",
       "</script>\n",
       "<script src=\"https://s1.wp.com/_static/??-eJyVkNtuxCAMRH+oLOqqkZqHqt/igEOccCuG7O7fF7RqlF4UdZ+wxnPGaOQlChV8Rp/lzFLjSgrj9TTzk9ytXBHRFkOepaUFWX4ULDiB1xbTgVkF56ok7tDc6EHyhSI+An0TfoJ5QldtsQxS30CLcyM8rGQgU/D/svNCsab7RYxBFRYjbQ2QV7bo+z/IgUG2ATTqkyP/l8cBB59u+/XhaWPDAPagDdA1SgyQWnTGVCcRVkyJ2sVNezAhJ1DLry73kGrtNWibDtwxcBajBUqSJ0jkzddboXf39tx1L33fv3bn+RN6X+ib\" type=\"text/javascript\"></script>\n",
       "<script type=\"text/javascript\">\n",
       "var windowOpen;\n",
       "\t\t\tjQuery( document.body ).on( 'click', 'a.share-twitter', function() {\n",
       "\t\t\t\t// If there's another sharing window open, close it.\n",
       "\t\t\t\tif ( 'undefined' !== typeof windowOpen ) {\n",
       "\t\t\t\t\twindowOpen.close();\n",
       "\t\t\t\t}\n",
       "\t\t\t\twindowOpen = window.open( jQuery( this ).attr( 'href' ), 'wpcomtwitter', 'menubar=1,resizable=1,width=600,height=350' );\n",
       "\t\t\t\treturn false;\n",
       "\t\t\t});\n",
       "var windowOpen;\n",
       "\t\t\tjQuery( document.body ).on( 'click', 'a.share-facebook', function() {\n",
       "\t\t\t\t// If there's another sharing window open, close it.\n",
       "\t\t\t\tif ( 'undefined' !== typeof windowOpen ) {\n",
       "\t\t\t\t\twindowOpen.close();\n",
       "\t\t\t\t}\n",
       "\t\t\t\twindowOpen = window.open( jQuery( this ).attr( 'href' ), 'wpcomfacebook', 'menubar=1,resizable=1,width=600,height=400' );\n",
       "\t\t\t\treturn false;\n",
       "\t\t\t});\n",
       "</script>\n",
       "<script type=\"text/javascript\">\n",
       "// <![CDATA[\n",
       "(function() {\n",
       "try{\n",
       "  if ( window.external &&'msIsSiteMode' in window.external) {\n",
       "    if (window.external.msIsSiteMode()) {\n",
       "      var jl = document.createElement('script');\n",
       "      jl.type='text/javascript';\n",
       "      jl.async=true;\n",
       "      jl.src='/wp-content/plugins/ie-sitemode/custom-jumplist.php';\n",
       "      var s = document.getElementsByTagName('script')[0];\n",
       "      s.parentNode.insertBefore(jl, s);\n",
       "    }\n",
       "  }\n",
       "}catch(e){}\n",
       "})();\n",
       "// ]]>\n",
       "</script> <iframe id=\"likes-master\" name=\"likes-master\" scrolling=\"no\" src=\"https://widgets.wp.com/likes/master.html?ver=20190321#ver=20190321&amp;lang=ko\" style=\"display:none;\"></iframe>\n",
       "<div id=\"likes-other-gravatars\"><div class=\"likes-text\"><span>%d</span> 블로거가 이것을 좋아합니다:</div><ul class=\"wpl-avatars sd-like-gravatars\"></ul></div>\n",
       "<script async=\"\" defer=\"\" src=\"//stats.wp.com/w.js?60\" type=\"text/javascript\"></script>\n",
       "<script type=\"text/javascript\">\n",
       "_tkq = window._tkq || [];\n",
       "_stq = window._stq || [];\n",
       "_tkq.push(['storeContext', {'blog_id':'163927570','blog_tz':'9','user_lang':'ko','blog_lang':'ko','user_id':'0'}]);\n",
       "_stq.push(['view', {'blog':'163927570','v':'wpcom','tz':'9','user_id':'0','post':'102','subd':'sparkkorea'}]);\n",
       "_stq.push(['extra', {'crypt':'UE40eW5QN0p8M2Y/RE1mJVY3bm9aR3VCbS9mWm1pRyZuJS1LX1t5NE84SWQsc2J8a3kvOS9ufHlFc2gmTk9WWlF2Lit2cCVUNnFGN2FKMVkuU2cxa3g1SThLSFg/RDFXUklKMFFmbkR6NERVdkhjWiU9bzF6bz14fj0zdFZCSVE9TVp4TklaX1tScDNHRnVkZWNMPVI1N21vTWpDWkxWdThYd2JudVZ6NEhZb2l0LjdaLn5NRGosOV1TWzM/Mi5ESyxPOExKPXJCeC5hSVhldlctb1glejNFZk0/c2RXdW9SQzIxb3BfalotLml6aVJYaDdUajJrSGJQSjFmMHFLb3cyZFB3'}]);\n",
       "_stq.push([ 'clickTrackerInit', '163927570', '102' ]);\n",
       "\t</script>\n",
       "<noscript><img alt=\"\" src=\"https://pixel.wp.com/b.gif?v=noscript\" style=\"height:0px;width:0px;overflow:hidden\"/></noscript>\n",
       "<script>\n",
       "if ( 'object' === typeof wpcom_mobile_user_agent_info ) {\n",
       "\n",
       "\twpcom_mobile_user_agent_info.init();\n",
       "\tvar mobileStatsQueryString = \"\";\n",
       "\t\n",
       "\tif( false !== wpcom_mobile_user_agent_info.matchedPlatformName )\n",
       "\t\tmobileStatsQueryString += \"&x_\" + 'mobile_platforms' + '=' + wpcom_mobile_user_agent_info.matchedPlatformName;\n",
       "\t\n",
       "\tif( false !== wpcom_mobile_user_agent_info.matchedUserAgentName )\n",
       "\t\tmobileStatsQueryString += \"&x_\" + 'mobile_devices' + '=' + wpcom_mobile_user_agent_info.matchedUserAgentName;\n",
       "\t\n",
       "\tif( wpcom_mobile_user_agent_info.isIPad() )\n",
       "\t\tmobileStatsQueryString += \"&x_\" + 'ipad_views' + '=' + 'views';\n",
       "\n",
       "\tif( \"\" != mobileStatsQueryString ) {\n",
       "\t\tnew Image().src = document.location.protocol + '//pixel.wp.com/g.gif?v=wpcom-no-pv' + mobileStatsQueryString + '&baba=' + Math.random();\n",
       "\t}\n",
       "\t\n",
       "}\n",
       "</script>\n",
       "</body>\n",
       "</html>"
      ]
     },
     "execution_count": 4,
     "metadata": {},
     "output_type": "execute_result"
    }
   ],
   "source": [
    "import requests, bs4\n",
    "import pandas as pd\n",
    "\n",
    "#웹페이지 html 소스 가져오기\n",
    "resp = requests.get(\"https://sparkkorea.com/퀴즈/\")\n",
    "resp.encoding='utf-8'\n",
    "html = resp.text\n",
    "bs = bs4.BeautifulSoup(html, 'html.parser')\n",
    "bs"
   ]
  },
  {
   "cell_type": "markdown",
   "metadata": {},
   "source": [
    "### 1. 특정 태그정보 가져오기 [태그명]"
   ]
  },
  {
   "cell_type": "code",
   "execution_count": 5,
   "metadata": {},
   "outputs": [
    {
     "name": "stdout",
     "output_type": "stream",
     "text": [
      "<div class=\"hfeed site\" id=\"page\">\n",
      "<a class=\"skip-link screen-reader-text\" href=\"#content\">컨텐츠로 건너뛰기</a>\n",
      "<header class=\"site-header\" id=\"masthead\" role=\"banner\">\n",
      "<div class=\"site-branding\">\n",
      "<h1 class=\"site-title\">\n",
      "<a href=\"https://sparkkorea.com/\" rel=\"home\">\n",
      "\t\t\t\t\t폴리텍대  스마트금융과\t\t\t\t</a>\n",
      "</h1>\n",
      "<p class=\"site-description\">스마트금융과 자료공유</p>\n",
      "</div><!-- .site-branding -->\n",
      "<nav class=\"main-navigation\" id=\"site-navigation\" role=\"navigation\">\n",
      "<button aria-controls=\"primary-menu\" aria-expanded=\"false\" class=\"menu-toggle\">메뉴</button>\n",
      "<div class=\"primary-menu\"><ul class=\"menu\" id=\"primary-menu\"><li class=\"menu-item menu-item-type-post_type menu-item-object-page menu-item-privacy-policy menu-item-28\" id=\"menu-item-28\"><a href=\"https://sparkkorea.com/%ed%80%b4%ec%a6%88/\">설문</a></li>\n",
      "<li class=\"menu-item menu-item-type-post_type menu-item-object-page menu-item-27\" id=\"menu-item-27\"><a href=\"https://sparkkorea.com/%ec%9e%90%eb%a3%8c%ec%8b%a4/\">자료실</a></li>\n",
      "<li class=\"menu-item menu-item-type-post_type menu-item-object-page current-menu-item page_item page-item-102 current_page_item menu-item-106\" id=\"menu-item-106\"><a aria-current=\"page\" href=\"https://sparkkorea.com/%ed%80%b4%ec%a6%88/\">퀴즈</a></li>\n",
      "<li class=\"menu-item menu-item-type-post_type menu-item-object-page menu-item-121\" id=\"menu-item-121\"><a href=\"https://sparkkorea.com/%ed%85%8c%ec%8a%a4%ed%8a%b8/\">테스트</a></li>\n",
      "</ul></div> </nav>\n",
      "</header><!-- #masthead -->\n",
      "<div class=\"site-inner\">\n",
      "<div class=\"site-content\" id=\"content\">\n",
      "<main class=\"content-area\" id=\"primary\" role=\"main\">\n",
      "<article class=\"post-102 page type-page status-publish hentry\" id=\"post-102\">\n",
      "<div class=\"entry-inner\">\n",
      "<header class=\"entry-header\">\n",
      "<h1 class=\"entry-title\">퀴즈</h1> </header><!-- .entry-header -->\n",
      "<div class=\"entry-content\">\n",
      "<div class=\"class_general_quiz\" id=\"id_general_quiz\">\n",
      "<h1>크롤링 </h1>\n",
      "<a href=\"https://forms.gle/WVhsH6oRdQVndYX59\"> 웹 크롤링 퀴즈 설문 </a>\n",
      "<p></p>\n",
      "<p></p>\n",
      "</div>\n",
      "<div class=\"class_spark_quiz\" id=\"id_spark_quiz\">\n",
      "<h1>Spark 퀴즈 </h1>\n",
      "<a href=\"https://forms.gle/Fw49w9GhWQChDcZm7\"> 6/13 Spark 심화과정 </a>\n",
      "<p></p>\n",
      "<a href=\"https://forms.gle/G4TcXm3fKuHLHA6D6\"> 6/13 Spark 기본과정 </a>\n",
      "<p></p>\n",
      "<a href=\"https://forms.gle/M8gr1kC2ubA3UDVp8\"> 6/18 Spark [MAP_FILTER] </a>\n",
      "<p></p>\n",
      "<a href=\"https://forms.gle/h8w5mZ4MNaPLCPbi6\"> 6/18 Spark GroupBy 심화 </a>\n",
      "<p></p>\n",
      "<a href=\"https://forms.gle/q5yL6QHfueDLM5w27\"> 6/25 Spark RDD 실전 분석 </a>\n",
      "<p></p>\n",
      "<a href=\"https://forms.gle/Gxb4y6LfVYiaLu4M7\"> 6/27 Spark RDD 실전 분석2 </a>\n",
      "<p></p>\n",
      "</div>\n",
      "<div class=\"class_py_quiz\" id=\"id_py_quiz\">\n",
      "<h1>Python 퀴즈 </h1>\n",
      "<a href=\"https://goo.gl/forms/BLiJDnHCC8MDoHr82\"> 1. 빅데이터 분석개요 및 파이썬프로그래밍</a>\n",
      "<p></p>\n",
      "<a href=\"https://goo.gl/forms/bTvHsy0PY3am0BCq2\"> 2. 파이썬 자료형 및 파일 데이터 불러오기 </a>\n",
      "<p></p>\n",
      "<a href=\"https://goo.gl/forms/ylZZiZUHfMxm7etJ3\"> 3. 파이썬 자료형 복습 </a>\n",
      "<p></p>\n",
      "<a href=\"https://goo.gl/forms/bGl0bgpmmqLKyEHI3\"> 4. 파이썬 문법 및 데이터 불러오기 </a>\n",
      "<p></p>\n",
      "<a href=\"https://goo.gl/forms/TtbUdSHNSOmFdIUN2\"> 5. 파이썬 문법 응용 </a>\n",
      "<p></p>\n",
      "<a href=\"https://forms.gle/SMgrtcifZLKr5JNZA\"> 파이썬 코드리뷰 </a>\n",
      "<p></p>\n",
      "<a href=\"https://forms.gle/Ep3PTfsTmk3pkdhK7\"> 파이썬 스크랩관련 설문 </a>\n",
      "<p></p>\n",
      "</div>\n",
      "<div class=\"sharedaddy sd-like-enabled sd-sharing-enabled\" id=\"jp-post-flair\"><div class=\"sharedaddy sd-sharing-enabled\"><div class=\"robots-nocontent sd-block sd-social sd-social-icon-text sd-sharing\"><h3 class=\"sd-title\">이 글 공유하기:</h3><div class=\"sd-content\"><ul><li class=\"share-twitter\"><a class=\"share-twitter sd-button share-icon\" data-shared=\"sharing-twitter-102\" href=\"https://sparkkorea.com/%ed%80%b4%ec%a6%88/?share=twitter\" rel=\"nofollow noopener noreferrer\" target=\"_blank\" title=\"트위터로 공유하기\"><span>Twitter</span></a></li><li class=\"share-facebook\"><a class=\"share-facebook sd-button share-icon\" data-shared=\"sharing-facebook-102\" href=\"https://sparkkorea.com/%ed%80%b4%ec%a6%88/?share=facebook\" rel=\"nofollow noopener noreferrer\" target=\"_blank\" title=\"Click to share on Facebook\"><span>Facebook</span></a></li><li class=\"share-end\"></li></ul></div></div></div><div class=\"sharedaddy sd-block sd-like jetpack-likes-widget-wrapper jetpack-likes-widget-unloaded\" data-name=\"like-post-frame-163927570-102-5d2b238c1c13f\" data-src=\"//widgets.wp.com/likes/index.html?ver=20190321#blog_id=163927570&amp;post_id=102&amp;origin=sparkkorea.wordpress.com&amp;obj_id=163927570-102-5d2b238c1c13f&amp;domain=sparkkorea.com\" id=\"like-post-wrapper-163927570-102-5d2b238c1c13f\"><h3 class=\"sd-title\">이것이 좋아요:</h3><div class=\"likes-widget-placeholder post-likes-widget-placeholder\" style=\"height: 55px;\"><span class=\"button\"><span>좋아요</span></span> <span class=\"loading\">가져오는 중...</span></div><span class=\"sd-text-color\"></span><a class=\"sd-link-color\"></a></div></div> </div><!-- .entry-content -->\n",
      "</div><!-- .entry-inner -->\n",
      "</article><!-- #post-## -->\n",
      "</main><!-- #main -->\n",
      "</div><!-- #content -->\n",
      "<footer class=\"site-footer\" id=\"colophon\" role=\"contentinfo\">\n",
      "<div class=\"footer-bottom-info\">\n",
      "<div class=\"site-info\">\n",
      "<a href=\"https://wordpress.com/?ref=footer_segment_business\">A WordPress.com Website.</a>\n",
      "</div><!-- .site-info -->\n",
      "</div><!-- .footer-bottom-info -->\n",
      "</footer><!-- #colophon -->\n",
      "</div><!-- .site-inner -->\n",
      "</div>\n"
     ]
    }
   ],
   "source": [
    "# html 태그 부분구조 가져오기\n",
    "find_tag = bs.find(\"div\")\n",
    "print(find_tag)"
   ]
  },
  {
   "cell_type": "markdown",
   "metadata": {},
   "source": [
    "### 2. 특정 태그정보 가져오기 [속성활용]"
   ]
  },
  {
   "cell_type": "code",
   "execution_count": 6,
   "metadata": {},
   "outputs": [
    {
     "name": "stdout",
     "output_type": "stream",
     "text": [
      "<div class=\"class_py_quiz\" id=\"id_py_quiz\">\n",
      "<h1>Python 퀴즈 </h1>\n",
      "<a href=\"https://goo.gl/forms/BLiJDnHCC8MDoHr82\"> 1. 빅데이터 분석개요 및 파이썬프로그래밍</a>\n",
      "<p></p>\n",
      "<a href=\"https://goo.gl/forms/bTvHsy0PY3am0BCq2\"> 2. 파이썬 자료형 및 파일 데이터 불러오기 </a>\n",
      "<p></p>\n",
      "<a href=\"https://goo.gl/forms/ylZZiZUHfMxm7etJ3\"> 3. 파이썬 자료형 복습 </a>\n",
      "<p></p>\n",
      "<a href=\"https://goo.gl/forms/bGl0bgpmmqLKyEHI3\"> 4. 파이썬 문법 및 데이터 불러오기 </a>\n",
      "<p></p>\n",
      "<a href=\"https://goo.gl/forms/TtbUdSHNSOmFdIUN2\"> 5. 파이썬 문법 응용 </a>\n",
      "<p></p>\n",
      "<a href=\"https://forms.gle/SMgrtcifZLKr5JNZA\"> 파이썬 코드리뷰 </a>\n",
      "<p></p>\n",
      "<a href=\"https://forms.gle/Ep3PTfsTmk3pkdhK7\"> 파이썬 스크랩관련 설문 </a>\n",
      "<p></p>\n",
      "</div>\n"
     ]
    }
   ],
   "source": [
    "# html 태그 속성으로 찾기\n",
    "find_attr = bs.find(\"div\",{\"id\":\"id_py_quiz\"})\n",
    "print(find_attr)"
   ]
  },
  {
   "cell_type": "markdown",
   "metadata": {},
   "source": [
    "### 2. 특정 태그정보 가져오기 [부분구조 찾기]"
   ]
  },
  {
   "cell_type": "code",
   "execution_count": 7,
   "metadata": {},
   "outputs": [
    {
     "name": "stdout",
     "output_type": "stream",
     "text": [
      "<a href=\"https://goo.gl/forms/BLiJDnHCC8MDoHr82\"> 1. 빅데이터 분석개요 및 파이썬프로그래밍</a>\n"
     ]
    }
   ],
   "source": [
    "# html 부분구조 가져오기\n",
    "find_attr = bs.find(\"div\",{\"id\":\"id_py_quiz\"})\n",
    "find_part = find_attr.find(\"a\")\n",
    "print(find_part)"
   ]
  },
  {
   "cell_type": "markdown",
   "metadata": {},
   "source": [
    "### 2. 특정 태그정보 가져오기 [DOM 구조 내 속성 찾기]"
   ]
  },
  {
   "cell_type": "code",
   "execution_count": 8,
   "metadata": {},
   "outputs": [
    {
     "name": "stdout",
     "output_type": "stream",
     "text": [
      "https://goo.gl/forms/BLiJDnHCC8MDoHr82\n"
     ]
    }
   ],
   "source": [
    "# html 태그 속성으로 찾기\n",
    "find_tag = bs.find(\"div\",{\"id\":\"id_py_quiz\"})\n",
    "# 링크내 속성 가져오기\n",
    "find_part = find_tag.find(\"a\").attrs['href']\n",
    "print(find_part)"
   ]
  },
  {
   "cell_type": "markdown",
   "metadata": {},
   "source": [
    "### 3. 디버깅하기"
   ]
  },
  {
   "cell_type": "code",
   "execution_count": 9,
   "metadata": {},
   "outputs": [
    {
     "data": {
      "text/plain": [
       "[<a href=\"https://goo.gl/forms/BLiJDnHCC8MDoHr82\"> 1. 빅데이터 분석개요 및 파이썬프로그래밍</a>,\n",
       " <a href=\"https://goo.gl/forms/bTvHsy0PY3am0BCq2\"> 2. 파이썬 자료형 및 파일 데이터 불러오기 </a>,\n",
       " <a href=\"https://goo.gl/forms/ylZZiZUHfMxm7etJ3\"> 3. 파이썬 자료형 복습 </a>,\n",
       " <a href=\"https://goo.gl/forms/bGl0bgpmmqLKyEHI3\"> 4. 파이썬 문법 및 데이터 불러오기 </a>,\n",
       " <a href=\"https://goo.gl/forms/TtbUdSHNSOmFdIUN2\"> 5. 파이썬 문법 응용 </a>,\n",
       " <a href=\"https://forms.gle/SMgrtcifZLKr5JNZA\"> 파이썬 코드리뷰 </a>,\n",
       " <a href=\"https://forms.gle/Ep3PTfsTmk3pkdhK7\"> 파이썬 스크랩관련 설문 </a>]"
      ]
     },
     "execution_count": 9,
     "metadata": {},
     "output_type": "execute_result"
    }
   ],
   "source": [
    "# html 부분구조 가져오기\n",
    "a_links = bs.find_all(\"div\",{\"id\":\"id_py_quiz\"})\n",
    "alinks = a_links[0].find_all(\"a\")\n",
    "alinks"
   ]
  },
  {
   "cell_type": "code",
   "execution_count": 10,
   "metadata": {},
   "outputs": [
    {
     "data": {
      "text/plain": [
       "7"
      ]
     },
     "execution_count": 10,
     "metadata": {},
     "output_type": "execute_result"
    }
   ],
   "source": [
    "len(alinks)"
   ]
  },
  {
   "cell_type": "code",
   "execution_count": 11,
   "metadata": {},
   "outputs": [
    {
     "data": {
      "text/plain": [
       "'https://goo.gl/forms/bTvHsy0PY3am0BCq2'"
      ]
     },
     "execution_count": 11,
     "metadata": {},
     "output_type": "execute_result"
    }
   ],
   "source": [
    "# 반복해서 작업한다.\n",
    "alinks[0].attrs[\"href\"]\n",
    "alinks[1].attrs[\"href\"]"
   ]
  },
  {
   "cell_type": "code",
   "execution_count": 12,
   "metadata": {},
   "outputs": [
    {
     "name": "stdout",
     "output_type": "stream",
     "text": [
      "https://goo.gl/forms/BLiJDnHCC8MDoHr82\n",
      "https://goo.gl/forms/bTvHsy0PY3am0BCq2\n",
      "https://goo.gl/forms/ylZZiZUHfMxm7etJ3\n",
      "https://goo.gl/forms/bGl0bgpmmqLKyEHI3\n",
      "https://goo.gl/forms/TtbUdSHNSOmFdIUN2\n",
      "https://forms.gle/SMgrtcifZLKr5JNZA\n",
      "https://forms.gle/Ep3PTfsTmk3pkdhK7\n"
     ]
    }
   ],
   "source": [
    "# 반복문 변환 크롤링\n",
    "for i in range(0,len(alinks)):\n",
    "    print(alinks[i].attrs[\"href\"])"
   ]
  },
  {
   "cell_type": "markdown",
   "metadata": {},
   "source": [
    "### 실습"
   ]
  },
  {
   "cell_type": "markdown",
   "metadata": {},
   "source": [
    "sparkkorea.com 사이트내 퀴즈 페이지 에서\n",
    "스파크 퀴즈  퀴즈이름 및 링크정보를 스크랩 하세요"
   ]
  },
  {
   "cell_type": "markdown",
   "metadata": {},
   "source": [
    "### 3. 특정 태그정보 가져오기 (Select)"
   ]
  },
  {
   "cell_type": "code",
   "execution_count": 17,
   "metadata": {},
   "outputs": [
    {
     "data": {
      "text/plain": [
       "'1,179.00'"
      ]
     },
     "execution_count": 17,
     "metadata": {},
     "output_type": "execute_result"
    }
   ],
   "source": [
    "import requests, bs4, pandas as pd, numpy as np\n",
    " \n",
    "#웹페이지 html 소스 가져오기\n",
    "resp = requests.get(\"http://finance.naver.com/marketindex/\")\n",
    "resp.encoding='utf-8'\n",
    "html = resp.text\n",
    "\n",
    "bs = bs4.BeautifulSoup(html, 'html.parser')\n",
    "\n",
    "# 데이터 추출하기\n",
    "price = bs.select_one(\"#exchangeList > li.on > a.head.usd > div > span.value\").string\n",
    "price"
   ]
  },
  {
   "cell_type": "code",
   "execution_count": 18,
   "metadata": {},
   "outputs": [
    {
     "data": {
      "text/html": [
       "<div>\n",
       "<style scoped>\n",
       "    .dataframe tbody tr th:only-of-type {\n",
       "        vertical-align: middle;\n",
       "    }\n",
       "\n",
       "    .dataframe tbody tr th {\n",
       "        vertical-align: top;\n",
       "    }\n",
       "\n",
       "    .dataframe thead th {\n",
       "        text-align: right;\n",
       "    }\n",
       "</style>\n",
       "<table border=\"1\" class=\"dataframe\">\n",
       "  <thead>\n",
       "    <tr style=\"text-align: right;\">\n",
       "      <th></th>\n",
       "      <th>USD</th>\n",
       "    </tr>\n",
       "  </thead>\n",
       "  <tbody>\n",
       "    <tr>\n",
       "      <th>0</th>\n",
       "      <td>1,179.00</td>\n",
       "    </tr>\n",
       "  </tbody>\n",
       "</table>\n",
       "</div>"
      ],
      "text/plain": [
       "        USD\n",
       "0  1,179.00"
      ]
     },
     "execution_count": 18,
     "metadata": {},
     "output_type": "execute_result"
    }
   ],
   "source": [
    "outList = []\n",
    "outList.append(price)\n",
    "\n",
    "result = pd.DataFrame(outList)\n",
    "result.columns = [\"USD\"]\n",
    "result"
   ]
  },
  {
   "cell_type": "markdown",
   "metadata": {},
   "source": [
    "### 3. 특정 태그정보 가져오기 [select 기본]"
   ]
  },
  {
   "cell_type": "code",
   "execution_count": 19,
   "metadata": {},
   "outputs": [
    {
     "name": "stdout",
     "output_type": "stream",
     "text": [
      "[<div class=\"class_py_quiz\" id=\"id_py_quiz\">\n",
      "<h1>Python 퀴즈 </h1>\n",
      "<a href=\"https://goo.gl/forms/BLiJDnHCC8MDoHr82\"> 1. 빅데이터 분석개요 및 파이썬프로그래밍</a>\n",
      "<p></p>\n",
      "<a href=\"https://goo.gl/forms/bTvHsy0PY3am0BCq2\"> 2. 파이썬 자료형 및 파일 데이터 불러오기 </a>\n",
      "<p></p>\n",
      "<a href=\"https://goo.gl/forms/ylZZiZUHfMxm7etJ3\"> 3. 파이썬 자료형 복습 </a>\n",
      "<p></p>\n",
      "<a href=\"https://goo.gl/forms/bGl0bgpmmqLKyEHI3\"> 4. 파이썬 문법 및 데이터 불러오기 </a>\n",
      "<p></p>\n",
      "<a href=\"https://goo.gl/forms/TtbUdSHNSOmFdIUN2\"> 5. 파이썬 문법 응용 </a>\n",
      "<p></p>\n",
      "<a href=\"https://forms.gle/SMgrtcifZLKr5JNZA\"> 파이썬 코드리뷰 </a>\n",
      "<p></p>\n",
      "<a href=\"https://forms.gle/Ep3PTfsTmk3pkdhK7\"> 파이썬 스크랩관련 설문 </a>\n",
      "<p></p>\n",
      "</div>]\n"
     ]
    }
   ],
   "source": [
    "import requests, bs4\n",
    " \n",
    "#웹페이지 html 소스 가져오기\n",
    "resp = requests.get(\"https://sparkkorea.com/퀴즈/\")\n",
    "resp.encoding='utf-8'\n",
    "html = resp.text\n",
    "\n",
    "bs = bs4.BeautifulSoup(html, \"html.parser\")\n",
    "# div에서 id가 id_py_quiz인것만 추출\n",
    "divs = bs.select(\"div#id_py_quiz\")\n",
    "print(divs)"
   ]
  },
  {
   "cell_type": "code",
   "execution_count": 47,
   "metadata": {},
   "outputs": [
    {
     "name": "stdout",
     "output_type": "stream",
     "text": [
      "[<div class=\"class_spark_quiz\" id=\"id_spark_quiz\">\n",
      "<h1>Spark 퀴즈 </h1>\n",
      "<a href=\"https://forms.gle/Fw49w9GhWQChDcZm7\"> 6/13 Spark 심화과정 </a>\n",
      "<p></p>\n",
      "<a href=\"https://forms.gle/G4TcXm3fKuHLHA6D6\"> 6/13 Spark 기본과정 </a>\n",
      "<p></p>\n",
      "<a href=\"https://forms.gle/M8gr1kC2ubA3UDVp8\"> 6/18 Spark [MAP_FILTER] </a>\n",
      "<p></p>\n",
      "<a href=\"https://forms.gle/h8w5mZ4MNaPLCPbi6\"> 6/18 Spark GroupBy 심화 </a>\n",
      "<p></p>\n",
      "<a href=\"https://forms.gle/q5yL6QHfueDLM5w27\"> 6/25 Spark RDD 실전 분석 </a>\n",
      "<p></p>\n",
      "<a href=\"https://forms.gle/Gxb4y6LfVYiaLu4M7\"> 6/27 Spark RDD 실전 분석2 </a>\n",
      "<p></p>\n",
      "</div>]\n"
     ]
    }
   ],
   "source": [
    "import requests, bs4\n",
    " \n",
    "#웹페이지 html 소스 가져오기\n",
    "resp = requests.get(\"https://sparkkorea.com/퀴즈/\")\n",
    "resp.encoding='utf-8'\n",
    "html = resp.text\n",
    "\n",
    "bs = bs4.BeautifulSoup(html, \"html.parser\")\n",
    "# div에서 id가 id_py_quiz인것만 추출\n",
    "divs = bs.select(\"div#id_spark_quiz\")\n",
    "print(divs)"
   ]
  },
  {
   "cell_type": "markdown",
   "metadata": {},
   "source": [
    "### 3. 특정 태그정보 가져오기 [select 기본]"
   ]
  },
  {
   "cell_type": "code",
   "execution_count": 27,
   "metadata": {},
   "outputs": [
    {
     "name": "stdout",
     "output_type": "stream",
     "text": [
      " 1. 빅데이터 분석개요 및 파이썬프로그래밍\n",
      " 2. 파이썬 자료형 및 파일 데이터 불러오기 \n",
      " 3. 파이썬 자료형 복습 \n",
      " 4. 파이썬 문법 및 데이터 불러오기 \n",
      " 5. 파이썬 문법 응용 \n",
      " 파이썬 코드리뷰 \n",
      " 파이썬 스크랩관련 설문 \n"
     ]
    }
   ],
   "source": [
    "import requests, bs4, pandas as pd, numpy as np\n",
    " \n",
    "#웹페이지 html 소스 가져오기\n",
    "resp = requests.get(\"https://sparkkorea.com/퀴즈/\")\n",
    "resp.encoding='utf-8'\n",
    "html = resp.text\n",
    "bs = bs4.BeautifulSoup(html, \"html.parser\")\n",
    "# div에서 class가 class_py_quiz인것만 추출 (1개)\n",
    "seone = bs.select_one(\"div.class_py_quiz > a\").string    \n",
    "# div에서 class가 class_py_quiz인것만 추출 (다수)\n",
    "seall = bs.select(\"div.class_py_quiz > a\")\n",
    "for li in seall:\n",
    "    print(li.text)"
   ]
  },
  {
   "cell_type": "markdown",
   "metadata": {},
   "source": [
    "### 실습"
   ]
  },
  {
   "cell_type": "markdown",
   "metadata": {},
   "source": [
    "sparkkorea.com 사이트내 퀴즈 페이지 에서\n",
    "스파크 퀴즈  퀴즈이름 및 링크정보를 스크랩 하세요"
   ]
  },
  {
   "cell_type": "markdown",
   "metadata": {},
   "source": [
    "### 실습"
   ]
  },
  {
   "cell_type": "markdown",
   "metadata": {},
   "source": [
    "쿠팡 사이트 접속 후 (계란/알류/가공란) 첫 페이지\n",
    "상품 60개의 상품명 및 가격을 크롤링하세요\n"
   ]
  },
  {
   "cell_type": "markdown",
   "metadata": {},
   "source": [
    "### 테이블트리 스크랩"
   ]
  },
  {
   "cell_type": "code",
   "execution_count": 29,
   "metadata": {},
   "outputs": [],
   "source": [
    "import requests, bs4\n",
    "import pandas as pd\n",
    "\n",
    "#웹페이지 html 소스 가져오기\n",
    "resp = requests.get(\"https://sparkkorea.com/테스트/\")\n",
    "resp.encoding='utf-8'\n",
    "html = resp.text\n",
    "bs = bs4.BeautifulSoup(html, 'html.parser')"
   ]
  },
  {
   "cell_type": "code",
   "execution_count": 30,
   "metadata": {},
   "outputs": [
    {
     "data": {
      "text/plain": [
       "<table class=\"type07\" id=\"test_table\">\n",
       "<thead>\n",
       "<tr>\n",
       "<th scope=\"cols\">학번</th>\n",
       "<th scope=\"cols\">이름</th>\n",
       "</tr>\n",
       "</thead>\n",
       "<tbody>\n",
       "<tr>\n",
       "<td>101</td>\n",
       "<td>김효관</td>\n",
       "</tr>\n",
       "<tr>\n",
       "<td>102</td>\n",
       "<td>이순신</td>\n",
       "</tr>\n",
       "<tr>\n",
       "<td>103</td>\n",
       "<td>김어진</td>\n",
       "</tr>\n",
       "</tbody>\n",
       "</table>"
      ]
     },
     "execution_count": 30,
     "metadata": {},
     "output_type": "execute_result"
    }
   ],
   "source": [
    "tabletag = bs.find(\"table\", {\"id\":\"test_table\"})\n",
    "tabletag"
   ]
  },
  {
   "cell_type": "code",
   "execution_count": 31,
   "metadata": {},
   "outputs": [
    {
     "data": {
      "text/plain": [
       "[<tr>\n",
       " <td>101</td>\n",
       " <td>김효관</td>\n",
       " </tr>, <tr>\n",
       " <td>102</td>\n",
       " <td>이순신</td>\n",
       " </tr>, <tr>\n",
       " <td>103</td>\n",
       " <td>김어진</td>\n",
       " </tr>]"
      ]
     },
     "execution_count": 31,
     "metadata": {},
     "output_type": "execute_result"
    }
   ],
   "source": [
    "iter_tr = tabletag.find(\"tbody\").find_all(\"tr\")\n",
    "iter_tr"
   ]
  },
  {
   "cell_type": "code",
   "execution_count": 32,
   "metadata": {},
   "outputs": [],
   "source": [
    "content=[]\n",
    "allcontent=[]\n",
    "\n",
    "for rows in iter_tr:\n",
    "    tds = rows.find_all(\"td\")\n",
    "    for td in tds:\n",
    "        content.append(td.text)\n",
    "    allcontent.append(content)\n",
    "    content=[]"
   ]
  },
  {
   "cell_type": "code",
   "execution_count": 33,
   "metadata": {},
   "outputs": [
    {
     "data": {
      "text/plain": [
       "[['101', '김효관'], ['102', '이순신'], ['103', '김어진']]"
      ]
     },
     "execution_count": 33,
     "metadata": {},
     "output_type": "execute_result"
    }
   ],
   "source": [
    "allcontent"
   ]
  },
  {
   "cell_type": "code",
   "execution_count": 34,
   "metadata": {},
   "outputs": [
    {
     "data": {
      "text/html": [
       "<div>\n",
       "<style scoped>\n",
       "    .dataframe tbody tr th:only-of-type {\n",
       "        vertical-align: middle;\n",
       "    }\n",
       "\n",
       "    .dataframe tbody tr th {\n",
       "        vertical-align: top;\n",
       "    }\n",
       "\n",
       "    .dataframe thead th {\n",
       "        text-align: right;\n",
       "    }\n",
       "</style>\n",
       "<table border=\"1\" class=\"dataframe\">\n",
       "  <thead>\n",
       "    <tr style=\"text-align: right;\">\n",
       "      <th></th>\n",
       "      <th>0</th>\n",
       "      <th>1</th>\n",
       "    </tr>\n",
       "  </thead>\n",
       "  <tbody>\n",
       "    <tr>\n",
       "      <th>0</th>\n",
       "      <td>101</td>\n",
       "      <td>김효관</td>\n",
       "    </tr>\n",
       "    <tr>\n",
       "      <th>1</th>\n",
       "      <td>102</td>\n",
       "      <td>이순신</td>\n",
       "    </tr>\n",
       "    <tr>\n",
       "      <th>2</th>\n",
       "      <td>103</td>\n",
       "      <td>김어진</td>\n",
       "    </tr>\n",
       "  </tbody>\n",
       "</table>\n",
       "</div>"
      ],
      "text/plain": [
       "     0    1\n",
       "0  101  김효관\n",
       "1  102  이순신\n",
       "2  103  김어진"
      ]
     },
     "execution_count": 34,
     "metadata": {},
     "output_type": "execute_result"
    }
   ],
   "source": [
    "pd.DataFrame(allcontent)"
   ]
  },
  {
   "cell_type": "markdown",
   "metadata": {},
   "source": [
    "### 실습"
   ]
  },
  {
   "cell_type": "markdown",
   "metadata": {},
   "source": [
    "https://www.timeanddate.com/holidays/south-korea/"
   ]
  },
  {
   "cell_type": "markdown",
   "metadata": {},
   "source": [
    "# 3. Selenium 활용한 웹 프로그래밍"
   ]
  },
  {
   "cell_type": "code",
   "execution_count": 35,
   "metadata": {},
   "outputs": [],
   "source": [
    "from selenium import webdriver\n",
    "from bs4 import BeautifulSoup\n",
    "import os\n",
    "from os.path import join, dirname\n",
    "\n",
    "if os.name == 'nt':\n",
    "    os_name = 'nt'\n",
    "elif os.name == 'mac':\n",
    "    os_name = 'mac'\n",
    "else:\n",
    "    os_name = 'linux'\n",
    "\n",
    "if os_name == 'nt':\n",
    "    dirver_loc = \"d:/chromedriver/chromedriver.exe\"\n",
    "else:\n",
    "    dirver_loc = \"/home/download/chromedriver/chromedriver.exe\""
   ]
  },
  {
   "cell_type": "code",
   "execution_count": 36,
   "metadata": {},
   "outputs": [
    {
     "data": {
      "text/plain": [
       "'d:/chromedriver/chromedriver.exe'"
      ]
     },
     "execution_count": 36,
     "metadata": {},
     "output_type": "execute_result"
    }
   ],
   "source": [
    "dirver_loc = \"d:/chromedriver/chromedriver.exe\"\n",
    "dirver_loc"
   ]
  },
  {
   "cell_type": "code",
   "execution_count": 37,
   "metadata": {},
   "outputs": [],
   "source": [
    "# 크롬 옵션 설정\n",
    "options = webdriver.ChromeOptions()\n",
    "# 헤드리스 설정 시 리눅스 같이 웹화면 없는경우에도 웹페이지 실행가능함\n",
    "#options.add_argument('headless')\n",
    "options.add_argument('window-size=1920x1080')\n",
    "#options.add_argument(\"disable-gpu\")\n",
    "# 웹 드라이버 정의\n",
    "driver = webdriver.Chrome(dirver_loc, options=options)"
   ]
  },
  {
   "cell_type": "code",
   "execution_count": 38,
   "metadata": {},
   "outputs": [],
   "source": [
    "# URL 정의\n",
    "base_url = 'https://sparkkorea.com'\n",
    "# UTL 이동\n",
    "driver.get(base_url)"
   ]
  },
  {
   "cell_type": "code",
   "execution_count": 39,
   "metadata": {},
   "outputs": [],
   "source": [
    "# 퀴즈메뉴 클릭\n",
    "driver.find_element_by_xpath('//*[@id=\"menu-item-106\"]/a').click()"
   ]
  },
  {
   "cell_type": "code",
   "execution_count": 40,
   "metadata": {},
   "outputs": [
    {
     "data": {
      "text/plain": [
       "<html lang=\"ko-KR\"><head>\n",
       "<meta charset=\"utf-8\"/>\n",
       "<meta content=\"width=device-width, initial-scale=1\" name=\"viewport\"/>\n",
       "<link href=\"http://gmpg.org/xfn/11\" rel=\"profile\"/>\n",
       "<link href=\"https://sparkkorea.com/xmlrpc.php\" rel=\"pingback\"/>\n",
       "<title>퀴즈 – 폴리텍대  스마트금융과</title>\n",
       "<!-- Async WordPress.com Remote Login -->\n",
       "<link href=\"//s2.wp.com\" rel=\"dns-prefetch\"/>\n",
       "<link href=\"//s1.wp.com\" rel=\"dns-prefetch\"/>\n",
       "<link href=\"//sparkkorea.wordpress.com\" rel=\"dns-prefetch\"/>\n",
       "<link href=\"//s0.wp.com\" rel=\"dns-prefetch\"/>\n",
       "<link href=\"//wordpress.com\" rel=\"dns-prefetch\"/>\n",
       "<link href=\"//fonts.googleapis.com\" rel=\"dns-prefetch\"/>\n",
       "<link href=\"https://sparkkorea.com/feed/\" rel=\"alternate\" title=\"폴리텍대  스마트금융과 » 피드\" type=\"application/rss+xml\"/>\n",
       "<link href=\"https://sparkkorea.com/comments/feed/\" rel=\"alternate\" title=\"폴리텍대  스마트금융과 » 댓글 피드\" type=\"application/rss+xml\"/>\n",
       "<script type=\"text/javascript\">\n",
       "\t\t/* <![CDATA[ */\n",
       "\t\tfunction addLoadEvent(func) {\n",
       "\t\t\tvar oldonload = window.onload;\n",
       "\t\t\tif (typeof window.onload != 'function') {\n",
       "\t\t\t\twindow.onload = func;\n",
       "\t\t\t} else {\n",
       "\t\t\t\twindow.onload = function () {\n",
       "\t\t\t\t\toldonload();\n",
       "\t\t\t\t\tfunc();\n",
       "\t\t\t\t}\n",
       "\t\t\t}\n",
       "\t\t}\n",
       "\t\t/* ]]> */\n",
       "\t</script>\n",
       "<script type=\"text/javascript\">\n",
       "\t\t\twindow._wpemojiSettings = {\"baseUrl\":\"https:\\/\\/s0.wp.com\\/wp-content\\/mu-plugins\\/wpcom-smileys\\/twemoji\\/2\\/72x72\\/\",\"ext\":\".png\",\"svgUrl\":\"https:\\/\\/s0.wp.com\\/wp-content\\/mu-plugins\\/wpcom-smileys\\/twemoji\\/2\\/svg\\/\",\"svgExt\":\".svg\",\"source\":{\"concatemoji\":\"https:\\/\\/s2.wp.com\\/wp-includes\\/js\\/wp-emoji-release.min.js?m=1556893897h&ver=5.2.2\"}};\n",
       "\t\t\t!function(a,b,c){function d(a,b){var c=String.fromCharCode;l.clearRect(0,0,k.width,k.height),l.fillText(c.apply(this,a),0,0);var d=k.toDataURL();l.clearRect(0,0,k.width,k.height),l.fillText(c.apply(this,b),0,0);var e=k.toDataURL();return d===e}function e(a){var b;if(!l||!l.fillText)return!1;switch(l.textBaseline=\"top\",l.font=\"600 32px Arial\",a){case\"flag\":return!(b=d([55356,56826,55356,56819],[55356,56826,8203,55356,56819]))&&(b=d([55356,57332,56128,56423,56128,56418,56128,56421,56128,56430,56128,56423,56128,56447],[55356,57332,8203,56128,56423,8203,56128,56418,8203,56128,56421,8203,56128,56430,8203,56128,56423,8203,56128,56447]),!b);case\"emoji\":return b=d([55357,56424,55356,57342,8205,55358,56605,8205,55357,56424,55356,57340],[55357,56424,55356,57342,8203,55358,56605,8203,55357,56424,55356,57340]),!b}return!1}function f(a){var c=b.createElement(\"script\");c.src=a,c.defer=c.type=\"text/javascript\",b.getElementsByTagName(\"head\")[0].appendChild(c)}var g,h,i,j,k=b.createElement(\"canvas\"),l=k.getContext&&k.getContext(\"2d\");for(j=Array(\"flag\",\"emoji\"),c.supports={everything:!0,everythingExceptFlag:!0},i=0;i<j.length;i++)c.supports[j[i]]=e(j[i]),c.supports.everything=c.supports.everything&&c.supports[j[i]],\"flag\"!==j[i]&&(c.supports.everythingExceptFlag=c.supports.everythingExceptFlag&&c.supports[j[i]]);c.supports.everythingExceptFlag=c.supports.everythingExceptFlag&&!c.supports.flag,c.DOMReady=!1,c.readyCallback=function(){c.DOMReady=!0},c.supports.everything||(h=function(){c.readyCallback()},b.addEventListener?(b.addEventListener(\"DOMContentLoaded\",h,!1),a.addEventListener(\"load\",h,!1)):(a.attachEvent(\"onload\",h),b.attachEvent(\"onreadystatechange\",function(){\"complete\"===b.readyState&&c.readyCallback()})),g=c.source||{},g.concatemoji?f(g.concatemoji):g.wpemoji&&g.twemoji&&(f(g.twemoji),f(g.wpemoji)))}(window,document,window._wpemojiSettings);\n",
       "\t\t</script><script defer=\"\" src=\"https://s2.wp.com/wp-includes/js/wp-emoji-release.min.js?m=1556893897h&amp;ver=5.2.2\" type=\"text/javascript\"></script>\n",
       "<style type=\"text/css\">\n",
       "img.wp-smiley,\n",
       "img.emoji {\n",
       "\tdisplay: inline !important;\n",
       "\tborder: none !important;\n",
       "\tbox-shadow: none !important;\n",
       "\theight: 1em !important;\n",
       "\twidth: 1em !important;\n",
       "\tmargin: 0 .07em !important;\n",
       "\tvertical-align: -0.1em !important;\n",
       "\tbackground: none !important;\n",
       "\tpadding: 0 !important;\n",
       "}\n",
       "</style>\n",
       "<link href=\"https://s0.wp.com/_static/??-eJyNkdFuwjAMRX9owXQSIB6mfUubemCIk6h2hPr3c1OKBEIVL5Fz7eNcO3DLzqeoGBW4uBzKiaLALfvETpgCji+3jRf5gvdYoCsKXFBz66+u3h7lFH0ovaVNgJ5EoQupVnVDO4wgOgbcMMWPCT0jPxOLpcXPXwnBCSk67Ekpnu5OISdRsUairvac27+qa6P6NKDpnFudKtgeaDGYoahrGOf9Qk3h2fa0utF59V2XBxRxdjIVdnXyVc6oycr8B3WBT8qMEsSkZLQ8ginxyz/Nbnf8bg7NcXv5B/hEzNY=?cssminify=yes\" id=\"all-css-0-1\" media=\"all\" rel=\"stylesheet\" type=\"text/css\"/>\n",
       "<link href=\"https://fonts.googleapis.com/css?family=Lato%3A400%2C400italic%2C700%2C700italic%7CNoto+Serif%3A400%2C400italic%2C700%2C700italic&amp;subset=latin%2Clatin-ext\" id=\"dyad-2-fonts-css\" media=\"all\" rel=\"stylesheet\" type=\"text/css\"/>\n",
       "<link href=\"https://s0.wp.com/_static/??-eJyNj80KwjAQhF/IdRuhqAfxWdJ0jdFkE/JD6ds36kGLtPQ2w843zOIQQHnOxBldgWCLNpxQE1M09bAg9yqlHf6w+U6OEobSYT/KHg6Y8mhpQ64msLNePbeUGlafYhiC8u6PmL3godbKbDzPDNysNHENjVQH6Sr1e93XvqCru4i2bcTpLJrjYwIqr3Yq?cssminify=yes\" id=\"all-css-2-1\" media=\"all\" rel=\"stylesheet\" type=\"text/css\"/>\n",
       "<link href=\"https://s2.wp.com/wp-content/mu-plugins/global-print/global-print.css?m=1465851035h&amp;cssminify=yes\" id=\"print-css-3-1\" media=\"print\" rel=\"stylesheet\" type=\"text/css\"/>\n",
       "<link href=\"https://s1.wp.com/_static/??-eJx9i9EKwjAMRX/IGgfbYA/it2SlayNpUpoMf198EBmKT/dcOAceLUQVT+JQ99B4zyQGGJ1UVuwfOkezE/zWm5qHjZE6WMFOkt/7rzKNhBxYsx7PV+Ql1WRQRsisK/JLuNXrMM2XcV6GZbo/AcVpSbo=?cssminify=yes\" id=\"all-css-4-1\" media=\"all\" rel=\"stylesheet\" type=\"text/css\"/>\n",
       "<script src=\"https://s2.wp.com/_static/??-eJyFztEKwjAMBdAfsisyOnwRv6XWOFKXtDbphn69HeiDMBQC9+EeuLFLNshhqhcQG9vdK5THO7ooO/sLGMKxeIWOkD84JFZgXW1OogQifoSNltIZJzBVoDTA2mauacN9v4Q8Iyx/WQTNPtxMAcHnun6i4965Q++GwfXxBTkPW9k=\" type=\"text/javascript\"></script>\n",
       "<link href=\"https://sparkkorea.wordpress.com/xmlrpc.php?rsd\" rel=\"EditURI\" title=\"RSD\" type=\"application/rsd+xml\"/>\n",
       "<link href=\"https://s1.wp.com/wp-includes/wlwmanifest.xml\" rel=\"wlwmanifest\" type=\"application/wlwmanifest+xml\"/>\n",
       "<meta content=\"WordPress.com\" name=\"generator\"/>\n",
       "<link href=\"https://sparkkorea.com/%ed%80%b4%ec%a6%88/\" rel=\"canonical\"/>\n",
       "<link href=\"https://wp.me/Pb5P34-1E\" rel=\"shortlink\"/>\n",
       "<link href=\"https://public-api.wordpress.com/oembed/?format=json&amp;url=https%3A%2F%2Fsparkkorea.com%2F%25ed%2580%25b4%25ec%25a6%2588%2F&amp;for=wpcom-auto-discovery\" rel=\"alternate\" type=\"application/json+oembed\"/><link href=\"https://public-api.wordpress.com/oembed/?format=xml&amp;url=https%3A%2F%2Fsparkkorea.com%2F%25ed%2580%25b4%25ec%25a6%2588%2F&amp;for=wpcom-auto-discovery\" rel=\"alternate\" type=\"application/xml+oembed\"/>\n",
       "<!-- Jetpack Open Graph Tags -->\n",
       "<meta content=\"article\" property=\"og:type\"/>\n",
       "<meta content=\"퀴즈\" property=\"og:title\"/>\n",
       "<meta content=\"https://sparkkorea.com/%ed%80%b4%ec%a6%88/\" property=\"og:url\"/>\n",
       "<meta content=\"크롤링 웹 크롤링 퀴즈 설문 Spark 퀴즈 6/13 Spark 심화과정 6/13 Spark 기본과정 6/18 Spark [MAP_FILTER] 6/18 Spark GroupBy 심화 6/25 Spark RDD 실전 분석 6/27 Spark RDD 실전 분석2 Python 퀴즈 1. 빅데이터 분석개요 및 파이썬프로그래밍 2. 파이썬 자료형 및 파일 데…\" property=\"og:description\"/>\n",
       "<meta content=\"2019-07-08T09:35:27+00:00\" property=\"article:published_time\"/>\n",
       "<meta content=\"2019-07-12T01:13:35+00:00\" property=\"article:modified_time\"/>\n",
       "<meta content=\"폴리텍대  스마트금융과\" property=\"og:site_name\"/>\n",
       "<meta content=\"https://s0.wp.com/i/blank.jpg\" property=\"og:image\"/>\n",
       "<meta content=\"ko_KR\" property=\"og:locale\"/>\n",
       "<meta content=\"@wordpressdotcom\" name=\"twitter:site\"/>\n",
       "<meta content=\"퀴즈\" name=\"twitter:text:title\"/>\n",
       "<meta content=\"summary\" name=\"twitter:card\"/>\n",
       "<meta content=\"https://www.facebook.com/WordPresscom\" property=\"article:publisher\"/>\n",
       "<!-- End Jetpack Open Graph Tags -->\n",
       "<link href=\"https://s1.wp.com/i/favicon.ico\" rel=\"shortcut icon\" sizes=\"16x16 24x24 32x32 48x48\" type=\"image/x-icon\"/>\n",
       "<link href=\"https://s1.wp.com/i/favicon.ico\" rel=\"icon\" sizes=\"16x16 24x24 32x32 48x48\" type=\"image/x-icon\"/>\n",
       "<link href=\"https://s2.wp.com/i/webclip.png\" rel=\"apple-touch-icon-precomposed\"/>\n",
       "<link href=\"https://sparkkorea.com/osd.xml\" rel=\"search\" title=\"폴리텍대  스마트금융과\" type=\"application/opensearchdescription+xml\"/>\n",
       "<link href=\"https://s1.wp.com/opensearch.xml\" rel=\"search\" title=\"WordPress.com\" type=\"application/opensearchdescription+xml\"/>\n",
       "<meta content=\"폴리텍대  스마트금융과\" name=\"application-name\"/><meta content=\"width=device-width;height=device-height\" name=\"msapplication-window\"/><meta content=\"스마트금융과 자료공유\" name=\"msapplication-tooltip\"/><meta content=\"name=구독;action-uri=https://sparkkorea.com/feed/;icon-uri=https://s1.wp.com/i/favicon.ico\" name=\"msapplication-task\"/><meta content=\"name=무료 블로그 등록;action-uri=http://wordpress.com/signup/;icon-uri=https://s1.wp.com/i/favicon.ico\" name=\"msapplication-task\"/><meta content=\"name=WordPress.com 지원;action-uri=http://support.wordpress.com/;icon-uri=https://s1.wp.com/i/favicon.ico\" name=\"msapplication-task\"/><meta content=\"name=WordPress.com 포럼;action-uri=http://forums.wordpress.com/;icon-uri=https://s1.wp.com/i/favicon.ico\" name=\"msapplication-task\"/><meta content=\"크롤링 웹 크롤링 퀴즈 설문 Spark 퀴즈 6/13 Spark 심화과정 6/13 Spark 기본과정 6/18 Spark [MAP_FILTER] 6/18 Spark GroupBy 심화 6/25 Spark RDD 실전 분석 6/27 Spark RDD 실전 분석2 Python 퀴즈 1. 빅데이터 분석개요 및 파이썬프로그래밍 2. 파이썬 자료형 및 파일 데이터 불러오기 3. 파이썬 자료형 복습 4. 파이썬 문법 및 데이터 불러오기 5.…\" name=\"description\"/>\n",
       "<style id=\"syntaxhighlighteranchor\" type=\"text/css\"></style>\n",
       "<link href=\"https://0.gravatar.com/dist/css/hovercard.min.css?ver=201928y\" id=\"gravatar-card-css\" rel=\"stylesheet\" type=\"text/css\"/><link href=\"https://0.gravatar.com/dist/css/services.min.css?ver=201928y\" id=\"gravatar-card-services-css\" rel=\"stylesheet\" type=\"text/css\"/></head>\n",
       "<body class=\"page-template-default page page-id-102 wp-embed-responsive mp6 customizer-styles-applied is-singular highlander-enabled highlander-light not-scrolled\">\n",
       "<div class=\"hfeed site\" id=\"page\">\n",
       "<a class=\"skip-link screen-reader-text\" href=\"#content\">컨텐츠로 건너뛰기</a>\n",
       "<header class=\"site-header\" id=\"masthead\" role=\"banner\">\n",
       "<div class=\"site-branding\">\n",
       "<h1 class=\"site-title\">\n",
       "<a href=\"https://sparkkorea.com/\" rel=\"home\">\n",
       "\t\t\t\t\t폴리텍대  스마트금융과\t\t\t\t</a>\n",
       "</h1>\n",
       "<p class=\"site-description\">스마트금융과 자료공유</p>\n",
       "</div><!-- .site-branding -->\n",
       "<nav class=\"main-navigation\" id=\"site-navigation\" role=\"navigation\">\n",
       "<button aria-controls=\"primary-menu\" aria-expanded=\"false\" class=\"menu-toggle\">메뉴</button>\n",
       "<div class=\"primary-menu\"><ul aria-expanded=\"false\" class=\"menu nav-menu\" id=\"primary-menu\"><li class=\"menu-item menu-item-type-post_type menu-item-object-page menu-item-privacy-policy menu-item-28\" id=\"menu-item-28\"><a href=\"https://sparkkorea.com/%ed%80%b4%ec%a6%88/\">설문</a></li>\n",
       "<li class=\"menu-item menu-item-type-post_type menu-item-object-page menu-item-27\" id=\"menu-item-27\"><a href=\"https://sparkkorea.com/%ec%9e%90%eb%a3%8c%ec%8b%a4/\">자료실</a></li>\n",
       "<li class=\"menu-item menu-item-type-post_type menu-item-object-page current-menu-item page_item page-item-102 current_page_item menu-item-106\" id=\"menu-item-106\"><a aria-current=\"page\" href=\"https://sparkkorea.com/%ed%80%b4%ec%a6%88/\">퀴즈</a></li>\n",
       "<li class=\"menu-item menu-item-type-post_type menu-item-object-page menu-item-121\" id=\"menu-item-121\"><a href=\"https://sparkkorea.com/%ed%85%8c%ec%8a%a4%ed%8a%b8/\">테스트</a></li>\n",
       "</ul></div> </nav>\n",
       "</header><!-- #masthead -->\n",
       "<div class=\"site-inner\">\n",
       "<div class=\"site-content\" id=\"content\" style=\"padding-top: 140px;\">\n",
       "<main class=\"content-area\" id=\"primary\" role=\"main\">\n",
       "<article class=\"post-102 page type-page status-publish hentry\" id=\"post-102\">\n",
       "<div class=\"entry-inner\">\n",
       "<header class=\"entry-header\">\n",
       "<h1 class=\"entry-title\">퀴즈</h1> </header><!-- .entry-header -->\n",
       "<div class=\"entry-content\">\n",
       "<div class=\"class_general_quiz\" id=\"id_general_quiz\">\n",
       "<h1>크롤링 </h1>\n",
       "<a href=\"https://forms.gle/WVhsH6oRdQVndYX59\"> 웹 크롤링 퀴즈 설문 </a>\n",
       "<p></p>\n",
       "<p></p>\n",
       "</div>\n",
       "<div class=\"class_spark_quiz\" id=\"id_spark_quiz\">\n",
       "<h1>Spark 퀴즈 </h1>\n",
       "<a href=\"https://forms.gle/Fw49w9GhWQChDcZm7\"> 6/13 Spark 심화과정 </a>\n",
       "<p></p>\n",
       "<a href=\"https://forms.gle/G4TcXm3fKuHLHA6D6\"> 6/13 Spark 기본과정 </a>\n",
       "<p></p>\n",
       "<a href=\"https://forms.gle/M8gr1kC2ubA3UDVp8\"> 6/18 Spark [MAP_FILTER] </a>\n",
       "<p></p>\n",
       "<a href=\"https://forms.gle/h8w5mZ4MNaPLCPbi6\"> 6/18 Spark GroupBy 심화 </a>\n",
       "<p></p>\n",
       "<a href=\"https://forms.gle/q5yL6QHfueDLM5w27\"> 6/25 Spark RDD 실전 분석 </a>\n",
       "<p></p>\n",
       "<a href=\"https://forms.gle/Gxb4y6LfVYiaLu4M7\"> 6/27 Spark RDD 실전 분석2 </a>\n",
       "<p></p>\n",
       "</div>\n",
       "<div class=\"class_py_quiz\" id=\"id_py_quiz\">\n",
       "<h1>Python 퀴즈 </h1>\n",
       "<a href=\"https://goo.gl/forms/BLiJDnHCC8MDoHr82\"> 1. 빅데이터 분석개요 및 파이썬프로그래밍</a>\n",
       "<p></p>\n",
       "<a href=\"https://goo.gl/forms/bTvHsy0PY3am0BCq2\"> 2. 파이썬 자료형 및 파일 데이터 불러오기 </a>\n",
       "<p></p>\n",
       "<a href=\"https://goo.gl/forms/ylZZiZUHfMxm7etJ3\"> 3. 파이썬 자료형 복습 </a>\n",
       "<p></p>\n",
       "<a href=\"https://goo.gl/forms/bGl0bgpmmqLKyEHI3\"> 4. 파이썬 문법 및 데이터 불러오기 </a>\n",
       "<p></p>\n",
       "<a href=\"https://goo.gl/forms/TtbUdSHNSOmFdIUN2\"> 5. 파이썬 문법 응용 </a>\n",
       "<p></p>\n",
       "<a href=\"https://forms.gle/SMgrtcifZLKr5JNZA\"> 파이썬 코드리뷰 </a>\n",
       "<p></p>\n",
       "<a href=\"https://forms.gle/Ep3PTfsTmk3pkdhK7\"> 파이썬 스크랩관련 설문 </a>\n",
       "<p></p>\n",
       "</div>\n",
       "<div class=\"sharedaddy sd-like-enabled sd-sharing-enabled\" id=\"jp-post-flair\"><div class=\"sharedaddy sd-sharing-enabled\"><div class=\"robots-nocontent sd-block sd-social sd-social-icon-text sd-sharing\"><h3 class=\"sd-title\">이 글 공유하기:</h3><div class=\"sd-content\"><ul><li class=\"share-twitter\"><a class=\"share-twitter sd-button share-icon\" data-shared=\"sharing-twitter-102\" href=\"https://sparkkorea.com/%ed%80%b4%ec%a6%88/?share=twitter&amp;nb=1\" rel=\"nofollow noopener noreferrer\" target=\"_blank\" title=\"트위터로 공유하기\"><span>Twitter</span></a></li><li class=\"share-facebook\"><a class=\"share-facebook sd-button share-icon\" data-shared=\"sharing-facebook-102\" href=\"https://sparkkorea.com/%ed%80%b4%ec%a6%88/?share=facebook&amp;nb=1\" rel=\"nofollow noopener noreferrer\" target=\"_blank\" title=\"Click to share on Facebook\"><span>Facebook</span></a></li><li class=\"share-end\"></li></ul></div></div></div><div class=\"sharedaddy sd-block sd-like jetpack-likes-widget-wrapper jetpack-likes-widget-loaded\" data-name=\"like-post-frame-163927570-102-5d2b26dda0398\" data-src=\"//widgets.wp.com/likes/index.html?ver=20190321#blog_id=163927570&amp;post_id=102&amp;origin=sparkkorea.wordpress.com&amp;obj_id=163927570-102-5d2b26dda0398&amp;domain=sparkkorea.com\" id=\"like-post-wrapper-163927570-102-5d2b26dda0398\"><h3 class=\"sd-title\">이것이 좋아요:</h3><div class=\"likes-widget-placeholder post-likes-widget-placeholder\" style=\"height: 55px;\"><span class=\"button\"><span>좋아요</span></span> <span class=\"loading\">가져오는 중...</span></div><iframe class=\"post-likes-widget jetpack-likes-widget\" frameborder=\"0\" height=\"55px\" name=\"like-post-frame-163927570-102-5d2b26dda0398\" src=\"//widgets.wp.com/likes/index.html?ver=20190321#blog_id=163927570&amp;post_id=102&amp;origin=sparkkorea.wordpress.com&amp;obj_id=163927570-102-5d2b26dda0398&amp;domain=sparkkorea.com\" width=\"100%\"></iframe><span class=\"sd-text-color\"></span><a class=\"sd-link-color\"></a></div></div> </div><!-- .entry-content -->\n",
       "</div><!-- .entry-inner -->\n",
       "</article><!-- #post-## -->\n",
       "</main><!-- #main -->\n",
       "</div><!-- #content -->\n",
       "<footer class=\"site-footer\" id=\"colophon\" role=\"contentinfo\">\n",
       "<div class=\"footer-bottom-info\">\n",
       "<div class=\"site-info\">\n",
       "<a href=\"https://wordpress.com/?ref=footer_segment_business\">A WordPress.com Website.</a>\n",
       "</div><!-- .site-info -->\n",
       "</div><!-- .footer-bottom-info -->\n",
       "</footer><!-- #colophon -->\n",
       "</div><!-- .site-inner -->\n",
       "</div><!-- #page -->\n",
       "<!-- -->\n",
       "<script src=\"//0.gravatar.com/js/gprofiles.js?ver=201928y\" type=\"text/javascript\"></script>\n",
       "<script type=\"text/javascript\">\n",
       "/* <![CDATA[ */\n",
       "var WPGroHo = {\"my_hash\":\"\"};\n",
       "/* ]]> */\n",
       "</script>\n",
       "<script src=\"https://s1.wp.com/wp-content/mu-plugins/gravatar-hovercards/wpgroho.js?m=1380573781h\" type=\"text/javascript\"></script>\n",
       "<script>\n",
       "\t\t//initialize and attach hovercards to all gravatars\n",
       "\t\tjQuery( document ).ready( function( $ ) {\n",
       "\n",
       "\t\t\tif (typeof Gravatar === \"undefined\"){\n",
       "\t\t\t\treturn;\n",
       "\t\t\t}\n",
       "\n",
       "\t\t\tif ( typeof Gravatar.init !== \"function\" ) {\n",
       "\t\t\t\treturn;\n",
       "\t\t\t}\t\t\t\n",
       "\n",
       "\t\t\tGravatar.profile_cb = function( hash, id ) {\n",
       "\t\t\t\tWPGroHo.syncProfileData( hash, id );\n",
       "\t\t\t};\n",
       "\t\t\tGravatar.my_hash = WPGroHo.my_hash;\n",
       "\t\t\tGravatar.init( 'body', '#wp-admin-bar-my-account' );\n",
       "\t\t});\n",
       "\t</script>\n",
       "<div style=\"display:none\">\n",
       "</div>\n",
       "<script type=\"text/javascript\">\n",
       "\t\twindow.WPCOM_sharing_counts = {\"https:\\/\\/sparkkorea.com\\/%ed%80%b4%ec%a6%88\\/\":102};\n",
       "\t</script>\n",
       "<script type=\"text/javascript\">\n",
       "/* <![CDATA[ */\n",
       "var comment_like_text = {\"loading\":\"\\uac00\\uc838\\uc624\\ub294 \\uc911...\"};\n",
       "/* ]]> */\n",
       "</script>\n",
       "<script type=\"text/javascript\">\n",
       "/* <![CDATA[ */\n",
       "var actionbardata = {\"siteID\":\"163927570\",\"siteName\":\"\\ud3f4\\ub9ac\\ud14d\\ub300  \\uc2a4\\ub9c8\\ud2b8\\uae08\\uc735\\uacfc\",\"siteURL\":\"https:\\/\\/sparkkorea.com\",\"icon\":\"<img alt='' src='https:\\/\\/s2.wp.com\\/i\\/logo\\/wpcom-gray-white.png' class='avatar avatar-50' height='50' width='50' \\/>\",\"canManageOptions\":\"\",\"canCustomizeSite\":\"\",\"isFollowing\":\"\",\"themeSlug\":\"pub\\/dyad-2\",\"signupURL\":\"https:\\/\\/wordpress.com\\/start\\/\",\"loginURL\":\"https:\\/\\/wordpress.com\\/log-in?redirect_to=https%3A%2F%2Fsparkkorea.com%2F%ED%80%B4%EC%A6%88%2F&signup_flow=account&domain=sparkkorea.com\",\"themeURL\":\"https:\\/\\/wordpress.com\\/theme\\/dyad-2\\/\",\"xhrURL\":\"https:\\/\\/sparkkorea.com\\/wp-admin\\/admin-ajax.php\",\"nonce\":\"abb20ea2e0\",\"isSingular\":\"1\",\"isFolded\":\"\",\"isLoggedIn\":\"\",\"isMobile\":\"\",\"subscribeNonce\":\"<input type=\\\"hidden\\\" id=\\\"_wpnonce\\\" name=\\\"_wpnonce\\\" value=\\\"8197f7b98a\\\" \\/>\",\"referer\":\"https:\\/\\/sparkkorea.com\\/%ed%80%b4%ec%a6%88\\/\",\"canFollow\":\"\",\"feedID\":\"97558616\",\"statusMessage\":\"\",\"customizeLink\":\"https:\\/\\/sparkkorea.wordpress.com\\/wp-admin\\/customize.php?url=https%3A%2F%2Fsparkkorea.wordpress.com%2F%25ed%2580%25b4%25ec%25a6%2588%2F\",\"postID\":\"102\",\"shortlink\":\"https:\\/\\/wp.me\\/Pb5P34-1E\",\"canEditPost\":\"\",\"editLink\":\"https:\\/\\/wordpress.com\\/page\\/sparkkorea.com\\/102\",\"statsLink\":\"https:\\/\\/wordpress.com\\/stats\\/post\\/102\\/sparkkorea.com\",\"i18n\":{\"view\":\"\\uc0ac\\uc774\\ud2b8 \\ubcf4\\uae30\",\"follow\":\"\\ud314\\ub85c\\uc6b0\",\"following\":\"\\ud314\\ub85c\\uc6b0\\uc911\",\"edit\":\"\\ud3b8\\uc9d1\",\"login\":\"\\ub85c\\uadf8\\uc778\",\"signup\":\"\\uac00\\uc785\",\"customize\":\"\\uc0ac\\uc6a9\\uc790 \\uc815\\uc758\\ud558\\uae30\",\"report\":\"\\uc774 \\ucf58\\ud150\\uce20 \\uc2e0\\uace0\\ud558\\uae30\",\"themeInfo\":\"\\ud14c\\ub9c8 \\uac00\\uc838\\uc624\\uae30: Dyad 2\",\"shortlink\":\"\\ub2e8\\ucd95 \\ub9c1\\ud06c \\ubcf5\\uc0ac\",\"copied\":\"\\ubcf5\\uc0ac\\ub428\",\"followedText\":\"\\uc774 \\uc0ac\\uc774\\ud2b8\\uc758 \\uc0c8 \\uae00\\uc774 \\uc774\\uc81c <a href=\\\"https:\\/\\/wordpress.com\\/\\\">\\ub274\\uc2a4\\ud53c\\ub4dc<\\/a>\\uc5d0 \\ud45c\\uc2dc\\ub429\\ub2c8\\ub2e4.\",\"foldBar\":\"\\uc774 \\ud45c\\uc2dc\\uc904 \\ucd95\\uc18c\",\"unfoldBar\":\"\\uc774 \\ud45c\\uc2dc\\uc904 \\ud655\\uc7a5\",\"editSubs\":\"\\uad6c\\ub3c5 \\uad00\\ub9ac\",\"viewReader\":\"\\ub9ac\\ub354\\uc5d0\\uc11c \\uc0ac\\uc774\\ud2b8 \\ubcf4\\uae30\",\"viewReadPost\":\"View post in Reader\",\"subscribe\":\"\\uac00\\uc785\\ud558\\uae30\",\"enterEmail\":\"\\uc774\\uba54\\uc77c \\uc8fc\\uc18c \\uc785\\ub825\",\"followers\":\"\",\"alreadyUser\":\"\\uc774\\ubbf8 \\uc6cc\\ub4dc\\ud504\\ub808\\uc2a4\\ub2f7\\ucef4 \\uacc4\\uc815\\uc744 \\uac16\\uace0 \\uacc4\\uc138\\uc694? <a href=\\\"https:\\/\\/wordpress.com\\/log-in?redirect_to=https%3A%2F%2Fsparkkorea.com%2F%ED%80%B4%EC%A6%88%2F&signup_flow=account&domain=sparkkorea.com\\\">\\uc9c0\\uae08 \\ub85c\\uadf8\\uc778\\ud558\\uc138\\uc694.<\\/a>\",\"stats\":\"\\ud1b5\\uacc4\"}};\n",
       "/* ]]> */\n",
       "</script>\n",
       "<script type=\"text/javascript\">\n",
       "/* <![CDATA[ */\n",
       "var sharing_js_options = {\"lang\":\"en\",\"counts\":\"1\",\"is_stats_active\":\"1\"};\n",
       "/* ]]> */\n",
       "</script>\n",
       "<script src=\"https://s1.wp.com/_static/??-eJyVkNtuxCAMRH+oLOqqkZqHqt/igEOccCuG7O7fF7RqlF4UdZ+wxnPGaOQlChV8Rp/lzFLjSgrj9TTzk9ytXBHRFkOepaUFWX4ULDiB1xbTgVkF56ok7tDc6EHyhSI+An0TfoJ5QldtsQxS30CLcyM8rGQgU/D/svNCsab7RYxBFRYjbQ2QV7bo+z/IgUG2ATTqkyP/l8cBB59u+/XhaWPDAPagDdA1SgyQWnTGVCcRVkyJ2sVNezAhJ1DLry73kGrtNWibDtwxcBajBUqSJ0jkzddboXf39tx1L33fv3bn+RN6X+ib\" type=\"text/javascript\"></script><div class=\"actnbr-pub-dyad-2 actnbr-has-follow\" id=\"actionbar\"><ul><li class=\"actnbr-ellipsis actnbr-hidden\"> <svg class=\"gridicon gridicon__ellipsis\" height=\"24\" viewbox=\"0 0 24 24\" width=\"24\" xmlns=\"http://www.w3.org/2000/svg\"><g><circle cx=\"5\" cy=\"12\" r=\"2\"></circle><circle cx=\"19\" cy=\"12\" r=\"2\"></circle><circle cx=\"12\" cy=\"12\" r=\"2\"></circle></g></svg> <div class=\"actnbr-popover tip tip-top-left actnbr-more\"> <div class=\"tip-arrow\"></div> <div class=\"tip-inner\"> <ul> <li class=\"actnbr-sitename\"><a href=\"https://sparkkorea.com\"><img alt=\"\" class=\"avatar avatar-50\" height=\"50\" scale=\"0\" src=\"https://s2.wp.com/i/logo/wpcom-gray-white.png\" width=\"50\"/> 폴리텍대  스마트금융과</a></li> <li class=\"actnbr-folded-customize\"><a href=\"https://sparkkorea.wordpress.com/wp-admin/customize.php?url=https%3A%2F%2Fsparkkorea.wordpress.com%2F%25ed%2580%25b4%25ec%25a6%2588%2F\"><svg class=\"gridicon gridicon__customize\" height=\"20px\" viewbox=\"0 0 24 24\" width=\"20px\" xmlns=\"http://www.w3.org/2000/svg\"><g><path d=\"M2 6c0-1.505.78-3.08 2-4 0 .845.69 2 2 2 1.657 0 3 1.343 3 3 0 .386-.08.752-.212 1.09.74.594 1.476 1.19 2.19 1.81L8.9 11.98c-.62-.716-1.214-1.454-1.807-2.192C6.753 9.92 6.387 10 6 10c-2.21 0-4-1.79-4-4zm12.152 6.848l1.34-1.34c.607.304 1.283.492 2.008.492 2.485 0 4.5-2.015 4.5-4.5 0-.725-.188-1.4-.493-2.007L18 9l-2-2 3.507-3.507C18.9 3.188 18.225 3 17.5 3 15.015 3 13 5.015 13 7.5c0 .725.188 1.4.493 2.007L3 20l2 2 6.848-6.848c1.885 1.928 3.874 3.753 5.977 5.45l1.425 1.148 1.5-1.5-1.15-1.425c-1.695-2.103-3.52-4.092-5.448-5.977z\" data-reactid=\".2.1.1:0.1b.0\"></path></g></svg><span>사용자 정의하기<span></span></span></a></li> <li class=\"actnbr-signup\"><a href=\"https://wordpress.com/start/\">가입</a></li> <li class=\"actnbr-login\"><a href=\"https://wordpress.com/log-in?redirect_to=https%3A%2F%2Fsparkkorea.com%2F%ED%80%B4%EC%A6%88%2F&amp;signup_flow=account&amp;domain=sparkkorea.com\">로그인</a></li> <li class=\"actnbr-shortlink\"><a href=\"https://wp.me/Pb5P34-1E\">단축 링크 복사</a></li> <li class=\"flb-report\"><a href=\"http://en.wordpress.com/abuse/\">이 콘텐츠 신고하기</a></li> <li class=\"actnbr-subs\"><a href=\"https://subscribe.wordpress.com/\">구독 관리</a></li> </ul> </div> </div> </li> </ul></div>\n",
       "<script type=\"text/javascript\">\n",
       "var windowOpen;\n",
       "\t\t\tjQuery( document.body ).on( 'click', 'a.share-twitter', function() {\n",
       "\t\t\t\t// If there's another sharing window open, close it.\n",
       "\t\t\t\tif ( 'undefined' !== typeof windowOpen ) {\n",
       "\t\t\t\t\twindowOpen.close();\n",
       "\t\t\t\t}\n",
       "\t\t\t\twindowOpen = window.open( jQuery( this ).attr( 'href' ), 'wpcomtwitter', 'menubar=1,resizable=1,width=600,height=350' );\n",
       "\t\t\t\treturn false;\n",
       "\t\t\t});\n",
       "var windowOpen;\n",
       "\t\t\tjQuery( document.body ).on( 'click', 'a.share-facebook', function() {\n",
       "\t\t\t\t// If there's another sharing window open, close it.\n",
       "\t\t\t\tif ( 'undefined' !== typeof windowOpen ) {\n",
       "\t\t\t\t\twindowOpen.close();\n",
       "\t\t\t\t}\n",
       "\t\t\t\twindowOpen = window.open( jQuery( this ).attr( 'href' ), 'wpcomfacebook', 'menubar=1,resizable=1,width=600,height=400' );\n",
       "\t\t\t\treturn false;\n",
       "\t\t\t});\n",
       "</script>\n",
       "<script type=\"text/javascript\">\n",
       "// <![CDATA[\n",
       "(function() {\n",
       "try{\n",
       "  if ( window.external &&'msIsSiteMode' in window.external) {\n",
       "    if (window.external.msIsSiteMode()) {\n",
       "      var jl = document.createElement('script');\n",
       "      jl.type='text/javascript';\n",
       "      jl.async=true;\n",
       "      jl.src='/wp-content/plugins/ie-sitemode/custom-jumplist.php';\n",
       "      var s = document.getElementsByTagName('script')[0];\n",
       "      s.parentNode.insertBefore(jl, s);\n",
       "    }\n",
       "  }\n",
       "}catch(e){}\n",
       "})();\n",
       "// ]]>\n",
       "</script> <iframe id=\"likes-master\" name=\"likes-master\" scrolling=\"no\" src=\"https://widgets.wp.com/likes/master.html?ver=20190321#ver=20190321&amp;lang=ko\" style=\"display:none;\"></iframe>\n",
       "<div id=\"likes-other-gravatars\"><div class=\"likes-text\"><span>%d</span> 블로거가 이것을 좋아합니다:</div><ul class=\"wpl-avatars sd-like-gravatars\"></ul></div>\n",
       "<script async=\"\" defer=\"\" src=\"//stats.wp.com/w.js?60\" type=\"text/javascript\"></script>\n",
       "<script type=\"text/javascript\">\n",
       "_tkq = window._tkq || [];\n",
       "_stq = window._stq || [];\n",
       "_tkq.push(['storeContext', {'blog_id':'163927570','blog_tz':'9','user_lang':'ko','blog_lang':'ko','user_id':'0'}]);\n",
       "_stq.push(['view', {'blog':'163927570','v':'wpcom','tz':'9','user_id':'0','post':'102','subd':'sparkkorea'}]);\n",
       "_stq.push(['extra', {'crypt':'UE40eW5QN0p8M2Y/RE1mJVY3bm9aR3VCbS9mWm1pRyZuJS1LX1t5NE84SWQsc2J8a3kvOS9ufHlFc2gmTk9WWlF2Lit2cCVUNnFGN2FKMVkuU2cxa3g1SThLSFg/RDFXUklKMFFmbkR6NERVdkhjWiU9bzF6bz14fj0zdFZCSVE9TVp4TklaX1tScDNHRnVkZWNMPVI1N2o4JTg0UXpnVnUzPU9TL2k5QUxFdFA1VGlVWWgvNz80Yj1SRXE3VlhJeT9uZ2VqLFdFLnQmWzBEZTNpT1EzOGZ0TnVuWzhZcDVVVXhPRHZ2Rz9vMXdSYmtWUVdIdWhhUzVUbVglY2RSbWs9dmllZw=='}]);\n",
       "_stq.push([ 'clickTrackerInit', '163927570', '102' ]);\n",
       "\t</script>\n",
       "<noscript><img alt=\"\" src=\"https://pixel.wp.com/b.gif?v=noscript\" style=\"height:0px;width:0px;overflow:hidden\"/></noscript>\n",
       "<script>\n",
       "if ( 'object' === typeof wpcom_mobile_user_agent_info ) {\n",
       "\n",
       "\twpcom_mobile_user_agent_info.init();\n",
       "\tvar mobileStatsQueryString = \"\";\n",
       "\t\n",
       "\tif( false !== wpcom_mobile_user_agent_info.matchedPlatformName )\n",
       "\t\tmobileStatsQueryString += \"&x_\" + 'mobile_platforms' + '=' + wpcom_mobile_user_agent_info.matchedPlatformName;\n",
       "\t\n",
       "\tif( false !== wpcom_mobile_user_agent_info.matchedUserAgentName )\n",
       "\t\tmobileStatsQueryString += \"&x_\" + 'mobile_devices' + '=' + wpcom_mobile_user_agent_info.matchedUserAgentName;\n",
       "\t\n",
       "\tif( wpcom_mobile_user_agent_info.isIPad() )\n",
       "\t\tmobileStatsQueryString += \"&x_\" + 'ipad_views' + '=' + 'views';\n",
       "\n",
       "\tif( \"\" != mobileStatsQueryString ) {\n",
       "\t\tnew Image().src = document.location.protocol + '//pixel.wp.com/g.gif?v=wpcom-no-pv' + mobileStatsQueryString + '&baba=' + Math.random();\n",
       "\t}\n",
       "\t\n",
       "}\n",
       "</script>\n",
       "<div class=\"comment-likes-overlay\" style=\"display: none;\"></div><img alt=\":)\" id=\"wpstats\" scale=\"0\" src=\"https://pixel.wp.com/g.gif?blog=163927570&amp;v=wpcom&amp;tz=9&amp;user_id=0&amp;post=102&amp;subd=sparkkorea&amp;host=sparkkorea.com&amp;ref=https%3A%2F%2Fsparkkorea.com%2F&amp;fcp=430&amp;rand=0.38038550877525057\"/></body></html>"
      ]
     },
     "execution_count": 40,
     "metadata": {},
     "output_type": "execute_result"
    }
   ],
   "source": [
    "# 현재 페이지 소스 가져오기\n",
    "html = driver.page_source\n",
    "# BeautifulSoup로 페이지 소스 파싱\n",
    "soup = BeautifulSoup(html,\"html.parser\")\n",
    "soup"
   ]
  },
  {
   "cell_type": "code",
   "execution_count": 11,
   "metadata": {},
   "outputs": [],
   "source": [
    "linkall = soup.select(\"#id_py_quiz > a\")"
   ]
  },
  {
   "cell_type": "code",
   "execution_count": 12,
   "metadata": {},
   "outputs": [],
   "source": [
    "nameList = []\n",
    "linkList = []"
   ]
  },
  {
   "cell_type": "code",
   "execution_count": 13,
   "metadata": {},
   "outputs": [],
   "source": [
    "for i in range(0,len(linkall)):\n",
    "    linkList.append(linkall[i].attrs[\"href\"])\n",
    "    nameList.append(linkall[i].text)"
   ]
  },
  {
   "cell_type": "code",
   "execution_count": 14,
   "metadata": {
    "scrolled": true
   },
   "outputs": [
    {
     "data": {
      "text/plain": [
       "[' 1. 빅데이터 분석개요 및 파이썬프로그래밍',\n",
       " ' 2. 파이썬 자료형 및 파일 데이터 불러오기 ',\n",
       " ' 3. 파이썬 자료형 복습 ',\n",
       " ' 4. 파이썬 문법 및 데이터 불러오기 ',\n",
       " ' 5. 파이썬 문법 응용 ',\n",
       " ' 파이썬 코드리뷰 ',\n",
       " ' 파이썬 스크랩관련 설문 ']"
      ]
     },
     "execution_count": 14,
     "metadata": {},
     "output_type": "execute_result"
    }
   ],
   "source": [
    "nameList"
   ]
  },
  {
   "cell_type": "code",
   "execution_count": 15,
   "metadata": {},
   "outputs": [
    {
     "data": {
      "text/plain": [
       "['https://goo.gl/forms/BLiJDnHCC8MDoHr82',\n",
       " 'https://goo.gl/forms/bTvHsy0PY3am0BCq2',\n",
       " 'https://goo.gl/forms/ylZZiZUHfMxm7etJ3',\n",
       " 'https://goo.gl/forms/bGl0bgpmmqLKyEHI3',\n",
       " 'https://goo.gl/forms/TtbUdSHNSOmFdIUN2',\n",
       " 'https://forms.gle/SMgrtcifZLKr5JNZA',\n",
       " 'https://forms.gle/Ep3PTfsTmk3pkdhK7']"
      ]
     },
     "execution_count": 15,
     "metadata": {},
     "output_type": "execute_result"
    }
   ],
   "source": [
    "linkList"
   ]
  },
  {
   "cell_type": "code",
   "execution_count": 17,
   "metadata": {},
   "outputs": [],
   "source": [
    "import pandas as pd"
   ]
  },
  {
   "cell_type": "code",
   "execution_count": 18,
   "metadata": {},
   "outputs": [],
   "source": [
    "finalResult = pd.concat([pd.DataFrame(nameList), pd.DataFrame(linkList)], axis=1)\n",
    "finalResult.columns=[\"title\",\"link\"]"
   ]
  },
  {
   "cell_type": "code",
   "execution_count": 19,
   "metadata": {},
   "outputs": [],
   "source": [
    "# 데이터 프레임 변환\n",
    "finalResult = pd.DataFrame(zip(nameList,linkList), columns=[\"title\",\"link\"])\n",
    "# csv 파일로 저장\n",
    "finalResult.to_csv(\"./link_scraping_result.csv\",encoding=\"ms949\", index=False)"
   ]
  },
  {
   "cell_type": "code",
   "execution_count": 20,
   "metadata": {},
   "outputs": [],
   "source": [
    "# SMTP 프로토콜 로드\n",
    "import smtplib\n",
    "\n",
    "# 이메일을 간단하게 보낼수 있는 라이브러리 로드\n",
    "from email.message import EmailMessage"
   ]
  },
  {
   "cell_type": "code",
   "execution_count": 5,
   "metadata": {},
   "outputs": [],
   "source": [
    "#pw = \"password\"    \n",
    "#pickle.dump(pw, open(\"pw.pickle\", 'wb'))"
   ]
  },
  {
   "cell_type": "code",
   "execution_count": 23,
   "metadata": {},
   "outputs": [],
   "source": [
    "import pickle"
   ]
  },
  {
   "cell_type": "code",
   "execution_count": 24,
   "metadata": {},
   "outputs": [],
   "source": [
    "pw = pickle.load(open('pw.pickle', 'rb'))"
   ]
  },
  {
   "cell_type": "code",
   "execution_count": 26,
   "metadata": {},
   "outputs": [
    {
     "data": {
      "text/plain": [
       "(235, b'2.7.0 Accepted')"
      ]
     },
     "execution_count": 26,
     "metadata": {},
     "output_type": "execute_result"
    }
   ],
   "source": [
    "# GMAIL 메일 설정\n",
    "# 보안설정 허용되지 않은 앱 설정 YES -> https://myaccount.google.com/lesssecureapps)\n",
    "smtp_gmail = smtplib.SMTP('smtp.gmail.com', 587)\n",
    "\n",
    "# 서버 연결을 설정하는 단계\n",
    "smtp_gmail.ehlo()\n",
    " \n",
    "# 연결을 암호화 (tls 방식)\n",
    "smtp_gmail.starttls()\n",
    " \n",
    "#로그인\n",
    "smtp_gmail.login('haiteamm@gmail.com',pw)"
   ]
  },
  {
   "cell_type": "markdown",
   "metadata": {},
   "source": [
    "### 수신자 목록 불러오기"
   ]
  },
  {
   "cell_type": "code",
   "execution_count": 27,
   "metadata": {},
   "outputs": [
    {
     "data": {
      "text/plain": [
       "['haiteam@kopo.ac.kr', 'haiteam@naver.com']"
      ]
     },
     "execution_count": 27,
     "metadata": {},
     "output_type": "execute_result"
    }
   ],
   "source": [
    "# 저장된 csv 파일 불러오기\n",
    "emaillist = pd.read_csv(\"./emailaddress.csv\", encoding='ms949')\n",
    "emaillist\n",
    "\n",
    "# 이메일 주소정보 리스트 변환\n",
    "to = emaillist['이메일'].tolist()\n",
    "to"
   ]
  },
  {
   "cell_type": "markdown",
   "metadata": {},
   "source": [
    "### 메일전송"
   ]
  },
  {
   "cell_type": "code",
   "execution_count": 28,
   "metadata": {},
   "outputs": [],
   "source": [
    "msg=EmailMessage()\n",
    " \n",
    "# 제목 입력\n",
    "msg['Subject']=\"퀴즈 정보\"\n",
    " \n",
    "# 내용 입력\n",
    "msg.set_content(\"퀴즈정보\")\n",
    " \n",
    "# 보내는 사람\n",
    "msg['From']='haiteamm@gmail.com'\n",
    " \n",
    "# 받는 사람\n",
    "msg['To'] = \",\".join(to)\n",
    " "
   ]
  },
  {
   "cell_type": "code",
   "execution_count": 29,
   "metadata": {},
   "outputs": [
    {
     "data": {
      "text/plain": [
       "'haiteam@kopo.ac.kr, haiteam@naver.com'"
      ]
     },
     "execution_count": 29,
     "metadata": {},
     "output_type": "execute_result"
    }
   ],
   "source": [
    "msg['To']"
   ]
  },
  {
   "cell_type": "code",
   "execution_count": 30,
   "metadata": {},
   "outputs": [
    {
     "data": {
      "text/plain": [
       "{}"
      ]
     },
     "execution_count": 30,
     "metadata": {},
     "output_type": "execute_result"
    }
   ],
   "source": [
    "file='link_scraping_result.csv'\n",
    "fp = open(file,'rb')\n",
    "file_data=fp.read()\n",
    "msg.add_attachment(file_data,maintype='text',\n",
    "                   subtype='plain',filename='link_scraping_result.csv')\n",
    "\n",
    "smtp_gmail.send_message(msg)"
   ]
  },
  {
   "cell_type": "markdown",
   "metadata": {},
   "source": [
    "# 3. 프로젝트 실습"
   ]
  },
  {
   "cell_type": "code",
   "execution_count": 41,
   "metadata": {},
   "outputs": [],
   "source": [
    "from selenium import webdriver\n",
    "from bs4 import BeautifulSoup\n",
    "import os\n",
    "from os.path import join, dirname\n",
    "\n",
    "if os.name == 'nt':\n",
    "    os_name = 'nt'\n",
    "elif os.name == 'mac':\n",
    "    os_name = 'mac'\n",
    "else:\n",
    "    os_name = 'linux'\n",
    "\n",
    "if os_name == 'nt':\n",
    "    dirver_loc = \"d:/chromedriver/chromedriver.exe\"\n",
    "else:\n",
    "    dirver_loc = \"/home/download/chromedriver/chromedriver.exe\""
   ]
  },
  {
   "cell_type": "markdown",
   "metadata": {},
   "source": [
    "### 크롬 브라우저 설정"
   ]
  },
  {
   "cell_type": "code",
   "execution_count": 42,
   "metadata": {},
   "outputs": [],
   "source": [
    "# 크롬 옵션 설정\n",
    "options = webdriver.ChromeOptions()\n",
    "# 헤드리스 설정 시 리눅스 같이 웹화면 없는경우에도 웹페이지 실행가능함\n",
    "#options.add_argument('headless')\n",
    "options.add_argument('window-size=1920x1080')\n",
    "#options.add_argument(\"disable-gpu\")\n",
    "# 웹 드라이버 정의\n",
    "driver = webdriver.Chrome(dirver_loc, options=options)"
   ]
  },
  {
   "cell_type": "markdown",
   "metadata": {},
   "source": [
    "### 키워드 등록"
   ]
  },
  {
   "cell_type": "code",
   "execution_count": 43,
   "metadata": {},
   "outputs": [],
   "source": [
    "naver_login_url = 'https://nid.naver.com/nidlogin.login'\n",
    "cafe_url = 'https://cafe.naver.com/smartpolytech'\n",
    "keyword_list = [\n",
    "    '스프링','웹'\n",
    "]\n",
    "result_dic = {}\n",
    "for keyword in keyword_list:\n",
    "    result_dic[keyword] = {\n",
    "        'title' : [],\n",
    "        'writer' : [],\n",
    "        'href' : [],\n",
    "        'date' : []\n",
    "    }\n",
    "exception_flag = 0\n",
    "exception_title_keyword_list = ['하둡','빅데이터']\n",
    "exception_writer_keyword_list = []"
   ]
  },
  {
   "cell_type": "markdown",
   "metadata": {},
   "source": [
    "### 로그인"
   ]
  },
  {
   "cell_type": "code",
   "execution_count": 44,
   "metadata": {},
   "outputs": [],
   "source": [
    "# Login Page\n",
    "#driver.get(naver_login_url)\n",
    "#driver.find_element_by_name('id').send_keys('ID')\n",
    "#driver.find_element_by_name('pw').send_keys('PWD')\n",
    "#driver.find_element_by_css_selector('#frmNIDLogin > fieldset > input').click()"
   ]
  },
  {
   "cell_type": "code",
   "execution_count": 45,
   "metadata": {},
   "outputs": [],
   "source": [
    "# Login Page\n",
    "driver.get(naver_login_url)\n",
    "\n",
    "id = \"아이디\"\n",
    "pw = \"비밀번호\"\n",
    "driver.execute_script(\"document.getElementsByName('id')[0].value=\\'\"+id+\"\\'\")\n",
    "driver.execute_script(\"document.getElementsByName('pw')[0].value=\\'\"+pw+\"\\'\")\n",
    "driver.find_element_by_css_selector('#frmNIDLogin > fieldset > input').click()"
   ]
  },
  {
   "cell_type": "markdown",
   "metadata": {},
   "source": [
    "### 카페 접속 및 검색어 크롤링"
   ]
  },
  {
   "cell_type": "code",
   "execution_count": 46,
   "metadata": {},
   "outputs": [],
   "source": [
    "# 카페 접속 및 검색어 크롤링\n",
    "driver.get(cafe_url)\n",
    "driver.implicitly_wait(3)\n",
    "# driver.get_screenshot_as_file('naver_main_headless.png')\n"
   ]
  },
  {
   "cell_type": "code",
   "execution_count": 47,
   "metadata": {},
   "outputs": [],
   "source": [
    "search_input = driver.find_element_by_xpath('//*[@id=\"topLayerQueryInput\"]')"
   ]
  },
  {
   "cell_type": "code",
   "execution_count": 48,
   "metadata": {},
   "outputs": [],
   "source": [
    "search_input.send_keys(keyword)\n",
    "search_button = driver.find_element_by_xpath('//*[@id=\"info-search\"]/form/button')\n",
    "search_button.click()\n",
    "driver.implicitly_wait(3)\n",
    "# driver.get_screenshot_as_file('naver_main_headless.png’)\n",
    "\n",
    "iframe = driver.find_element_by_css_selector('iframe#cafe_main')\n",
    "driver.switch_to.frame(iframe)\n",
    "\n",
    "show_element = driver.find_element_by_xpath(\"\"\"//*[@id=\"listSizeSelectDiv\"]/a\"\"\")\n",
    "show_element.click()\n",
    "show_50_element = driver.find_element_by_xpath(\"\"\"//*[@id=\"listSizeSelectDiv\"]/ul/li[7]/a\"\"\")\n",
    "show_50_element.click()"
   ]
  },
  {
   "cell_type": "code",
   "execution_count": 49,
   "metadata": {},
   "outputs": [],
   "source": [
    "req = driver.page_source\n",
    "html = BeautifulSoup(req, 'html.parser')"
   ]
  },
  {
   "cell_type": "code",
   "execution_count": 50,
   "metadata": {},
   "outputs": [],
   "source": [
    "title_list = []\n",
    "writer_list = []\n",
    "href_list = []\n",
    "date_list = []"
   ]
  },
  {
   "cell_type": "code",
   "execution_count": 51,
   "metadata": {},
   "outputs": [],
   "source": [
    "# driver.get_screenshot_as_file('naver_main_headless.png')\n",
    "for tag in html.select('div#content-area div#main-area table tbody tr'):\n",
    "    if len(tag.select('div.inner_list > a.article')) < 1:\n",
    "        continue\n",
    "\n",
    "    title = tag.select('div.inner_list > a.article')[0].text.strip()\n",
    "    number = tag.select('div.inner_number')[0].text.strip()\n",
    "    writer = tag.select('td.p-nick > a.m-tcol-c')[0].text.strip()\n",
    "    date = tag.select('td.td_date')[0].text.strip()\n",
    "    if ':' in date:\n",
    "        date = today\n",
    "\n",
    "    # 제목 예외처리\n",
    "    for exception_title_keyword in exception_title_keyword_list:\n",
    "        if exception_title_keyword in title:\n",
    "            exception_flag = 1\n",
    "            break\n",
    "    # 글쓴이 예외처리\n",
    "    for exception_writer_keyword in exception_writer_keyword_list:\n",
    "        if exception_writer_keyword == writer:\n",
    "            exception_flag = 1\n",
    "            break\n",
    "\n",
    "    if exception_flag == 1:\n",
    "        exception_flag = 0\n",
    "        continue\n",
    "\n",
    "    href = 'https://cafe.naver.com/joonggonara/'+number\n",
    "    # print(title,\"//\",writer,\"//\",date)\n",
    "    # print(href)\n",
    "\n",
    "    if writer in writer_list:\n",
    "        pass\n",
    "    else:\n",
    "        title_list.append(title)\n",
    "        writer_list.append(writer)\n",
    "        href_list.append(href)\n",
    "        date_list.append(date)\n",
    "driver.switch_to.default_content()\n",
    "driver.quit()"
   ]
  },
  {
   "cell_type": "code",
   "execution_count": 52,
   "metadata": {},
   "outputs": [],
   "source": [
    "finalResult = pd.DataFrame(zip(title_list,writer_list,href_list,date_list))"
   ]
  },
  {
   "cell_type": "code",
   "execution_count": 53,
   "metadata": {},
   "outputs": [
    {
     "data": {
      "text/html": [
       "<div>\n",
       "<style scoped>\n",
       "    .dataframe tbody tr th:only-of-type {\n",
       "        vertical-align: middle;\n",
       "    }\n",
       "\n",
       "    .dataframe tbody tr th {\n",
       "        vertical-align: top;\n",
       "    }\n",
       "\n",
       "    .dataframe thead th {\n",
       "        text-align: right;\n",
       "    }\n",
       "</style>\n",
       "<table border=\"1\" class=\"dataframe\">\n",
       "  <thead>\n",
       "    <tr style=\"text-align: right;\">\n",
       "      <th></th>\n",
       "      <th>0</th>\n",
       "      <th>1</th>\n",
       "      <th>2</th>\n",
       "      <th>3</th>\n",
       "    </tr>\n",
       "  </thead>\n",
       "  <tbody>\n",
       "    <tr>\n",
       "      <th>0</th>\n",
       "      <td>JAVA/ JSP/ 웹개발 / 소프트웨어개발자 신입</td>\n",
       "      <td>김효관교수</td>\n",
       "      <td>https://cafe.naver.com/joonggonara/424</td>\n",
       "      <td>2019.07.10.</td>\n",
       "    </tr>\n",
       "    <tr>\n",
       "      <th>1</th>\n",
       "      <td>[스프링부트] Session 처리</td>\n",
       "      <td>황원용교수</td>\n",
       "      <td>https://cafe.naver.com/joonggonara/413</td>\n",
       "      <td>2019.06.28.</td>\n",
       "    </tr>\n",
       "    <tr>\n",
       "      <th>2</th>\n",
       "      <td>성한빈 면접후기 입니다.</td>\n",
       "      <td>2018성한빈</td>\n",
       "      <td>https://cafe.naver.com/joonggonara/222</td>\n",
       "      <td>2018.09.17.</td>\n",
       "    </tr>\n",
       "    <tr>\n",
       "      <th>3</th>\n",
       "      <td>05.15 웹UI 강의자료</td>\n",
       "      <td>조준형</td>\n",
       "      <td>https://cafe.naver.com/joonggonara/146</td>\n",
       "      <td>2018.05.15.</td>\n",
       "    </tr>\n",
       "    <tr>\n",
       "      <th>4</th>\n",
       "      <td>웹서버 실행 중 200, 403 호출이 동시에 응답할때(파비콘 요청)_업데이트</td>\n",
       "      <td>2018정효재</td>\n",
       "      <td>https://cafe.naver.com/joonggonara/141</td>\n",
       "      <td>2018.05.09.</td>\n",
       "    </tr>\n",
       "  </tbody>\n",
       "</table>\n",
       "</div>"
      ],
      "text/plain": [
       "                                             0        1  \\\n",
       "0                 JAVA/ JSP/ 웹개발 / 소프트웨어개발자 신입    김효관교수   \n",
       "1                           [스프링부트] Session 처리    황원용교수   \n",
       "2                                성한빈 면접후기 입니다.  2018성한빈   \n",
       "3                               05.15 웹UI 강의자료      조준형   \n",
       "4  웹서버 실행 중 200, 403 호출이 동시에 응답할때(파비콘 요청)_업데이트  2018정효재   \n",
       "\n",
       "                                        2            3  \n",
       "0  https://cafe.naver.com/joonggonara/424  2019.07.10.  \n",
       "1  https://cafe.naver.com/joonggonara/413  2019.06.28.  \n",
       "2  https://cafe.naver.com/joonggonara/222  2018.09.17.  \n",
       "3  https://cafe.naver.com/joonggonara/146  2018.05.15.  \n",
       "4  https://cafe.naver.com/joonggonara/141  2018.05.09.  "
      ]
     },
     "execution_count": 53,
     "metadata": {},
     "output_type": "execute_result"
    }
   ],
   "source": [
    "finalResult"
   ]
  },
  {
   "cell_type": "markdown",
   "metadata": {},
   "source": [
    "### 쿠팡 셀레니움 실습"
   ]
  },
  {
   "cell_type": "markdown",
   "metadata": {},
   "source": [
    "### 실습 (bs4)"
   ]
  }
 ],
 "metadata": {
  "kernelspec": {
   "display_name": "Python 3",
   "language": "python",
   "name": "python3"
  },
  "language_info": {
   "codemirror_mode": {
    "name": "ipython",
    "version": 3
   },
   "file_extension": ".py",
   "mimetype": "text/x-python",
   "name": "python",
   "nbconvert_exporter": "python",
   "pygments_lexer": "ipython3",
   "version": "3.7.3"
  }
 },
 "nbformat": 4,
 "nbformat_minor": 2
}
