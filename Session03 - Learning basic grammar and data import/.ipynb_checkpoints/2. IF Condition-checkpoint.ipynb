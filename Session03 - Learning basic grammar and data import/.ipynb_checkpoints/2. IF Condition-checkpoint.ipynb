{
 "cells": [
  {
   "cell_type": "markdown",
   "metadata": {},
   "source": [
    "# 2. 조건문"
   ]
  },
  {
   "cell_type": "code",
   "execution_count": 1,
   "metadata": {},
   "outputs": [
    {
     "name": "stdout",
     "output_type": "stream",
     "text": [
      "True\n"
     ]
    }
   ],
   "source": [
    "# 변수에 특정 값 할당\n",
    "stockname = 'SEA'\n",
    "\n",
    "# 조건 식 수행 일치 시 실행\n",
    "if stockname == \"SEC\":\n",
    "    print(\"Union\")\n",
    "elif stockname == \"SEA\":\n",
    "    print(\"True\")\n",
    "# 조건이 일치하지 않는 경우 else 조건 실행\n",
    "else:\n",
    "    print(\"False\")"
   ]
  },
  {
   "cell_type": "markdown",
   "metadata": {},
   "source": [
    "### 퀴즈"
   ]
  },
  {
   "cell_type": "markdown",
   "metadata": {},
   "source": [
    "SCORE  변수를 80으로 선언 후\n",
    "90점이상 A, 80~90점 B, 이외 C 점수로\n",
    "GRADE변수에 할당하는 프로그램을 구현하세요"
   ]
  },
  {
   "cell_type": "code",
   "execution_count": 2,
   "metadata": {},
   "outputs": [
    {
     "data": {
      "text/plain": [
       "'B'"
      ]
     },
     "execution_count": 2,
     "metadata": {},
     "output_type": "execute_result"
    }
   ],
   "source": [
    "score = 80 \n",
    "grade = \"C\"\n",
    "\n",
    "if score >= 90: \n",
    "    grade = \"A\" \n",
    "elif score >= 80: \n",
    "    grade = \"B\" \n",
    "else: \n",
    "    grade = \"C\"\n",
    "grade"
   ]
  }
 ],
 "metadata": {
  "kernelspec": {
   "display_name": "Python 3",
   "language": "python",
   "name": "python3"
  },
  "language_info": {
   "codemirror_mode": {
    "name": "ipython",
    "version": 3
   },
   "file_extension": ".py",
   "mimetype": "text/x-python",
   "name": "python",
   "nbconvert_exporter": "python",
   "pygments_lexer": "ipython3",
   "version": "3.6.3"
  }
 },
 "nbformat": 4,
 "nbformat_minor": 2
}
