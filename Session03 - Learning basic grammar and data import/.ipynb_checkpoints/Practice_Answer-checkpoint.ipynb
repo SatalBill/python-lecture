{
 "cells": [
  {
   "cell_type": "code",
   "execution_count": null,
   "metadata": {},
   "outputs": [],
   "source": [
    "import requests\n",
    "import pandas as pd\n",
    "from bs4 import BeautifulSoup\n",
    "from lxml import html"
   ]
  },
  {
   "cell_type": "code",
   "execution_count": null,
   "metadata": {},
   "outputs": [],
   "source": []
  },
  {
   "cell_type": "code",
   "execution_count": 9,
   "metadata": {},
   "outputs": [],
   "source": [
    "url=\"http://openapi.airkorea.or.kr/openapi/services/rest/ArpltnInforInqireSvc/getMsrstnAcctoRltmMesureDnsty?stationName=%EC%9A%A9%EC%82%B0%EA%B5%AC&dataTerm=month&pageNo=1&numOfRows=10&ServiceKey=AT33s775KYpJOkUBJu0dxkJuUeIfDIOJRzAH084EQS3JN%2BzFjErLHuk%2FGZa9L4gBTSGCzeA69tI9PwLp7B37IQ%3D%3D\""
   ]
  },
  {
   "cell_type": "code",
   "execution_count": 10,
   "metadata": {},
   "outputs": [],
   "source": [
    "resp = requests.get(url)\n",
    "xmlobj = BeautifulSoup(resp.text,\"lxml\")"
   ]
  },
  {
   "cell_type": "code",
   "execution_count": 11,
   "metadata": {},
   "outputs": [],
   "source": [
    "columnList = []\n",
    "rowList = []\n",
    "columnNameList = []\n",
    "rows = xmlobj.find_all(\"item\")\n",
    "\n",
    "for i in range(0, len(rows)):\n",
    "    columns = rows[i].find_all()\n",
    "    for j in range(0, len(columns)):\n",
    "        if i==0:\n",
    "            columnNameList.append(columns[j].name)\n",
    "        columnList.append(columns[j].text)\n",
    "    rowList.append(columnList)\n",
    "    columnList=[]"
   ]
  },
  {
   "cell_type": "code",
   "execution_count": 12,
   "metadata": {},
   "outputs": [],
   "source": [
    "airResult = pd.DataFrame(rowList)"
   ]
  },
  {
   "cell_type": "code",
   "execution_count": 14,
   "metadata": {},
   "outputs": [],
   "source": [
    "airResult.columns = columnNameList"
   ]
  },
  {
   "cell_type": "code",
   "execution_count": 15,
   "metadata": {},
   "outputs": [
    {
     "data": {
      "text/html": [
       "<div>\n",
       "<style scoped>\n",
       "    .dataframe tbody tr th:only-of-type {\n",
       "        vertical-align: middle;\n",
       "    }\n",
       "\n",
       "    .dataframe tbody tr th {\n",
       "        vertical-align: top;\n",
       "    }\n",
       "\n",
       "    .dataframe thead th {\n",
       "        text-align: right;\n",
       "    }\n",
       "</style>\n",
       "<table border=\"1\" class=\"dataframe\">\n",
       "  <thead>\n",
       "    <tr style=\"text-align: right;\">\n",
       "      <th></th>\n",
       "      <th>datatime</th>\n",
       "      <th>so2value</th>\n",
       "      <th>covalue</th>\n",
       "      <th>o3value</th>\n",
       "      <th>no2value</th>\n",
       "      <th>pm10value</th>\n",
       "      <th>khaivalue</th>\n",
       "      <th>khaigrade</th>\n",
       "      <th>so2grade</th>\n",
       "      <th>cograde</th>\n",
       "      <th>o3grade</th>\n",
       "      <th>no2grade</th>\n",
       "      <th>pm10grade</th>\n",
       "    </tr>\n",
       "  </thead>\n",
       "  <tbody>\n",
       "    <tr>\n",
       "      <th>0</th>\n",
       "      <td>2019-07-25 18:00</td>\n",
       "      <td>0.002</td>\n",
       "      <td>0.6</td>\n",
       "      <td>0.020</td>\n",
       "      <td>0.038</td>\n",
       "      <td>35</td>\n",
       "      <td>66</td>\n",
       "      <td>2</td>\n",
       "      <td>1</td>\n",
       "      <td>1</td>\n",
       "      <td>1</td>\n",
       "      <td>2</td>\n",
       "      <td>1</td>\n",
       "    </tr>\n",
       "    <tr>\n",
       "      <th>1</th>\n",
       "      <td>2019-07-25 17:00</td>\n",
       "      <td>0.002</td>\n",
       "      <td>0.6</td>\n",
       "      <td>0.022</td>\n",
       "      <td>0.035</td>\n",
       "      <td>38</td>\n",
       "      <td>-</td>\n",
       "      <td></td>\n",
       "      <td>1</td>\n",
       "      <td>1</td>\n",
       "      <td>1</td>\n",
       "      <td>2</td>\n",
       "      <td></td>\n",
       "    </tr>\n",
       "    <tr>\n",
       "      <th>2</th>\n",
       "      <td>2019-07-25 16:00</td>\n",
       "      <td>0.002</td>\n",
       "      <td>0.4</td>\n",
       "      <td>0.020</td>\n",
       "      <td>0.033</td>\n",
       "      <td>21</td>\n",
       "      <td>-</td>\n",
       "      <td></td>\n",
       "      <td>1</td>\n",
       "      <td>1</td>\n",
       "      <td>1</td>\n",
       "      <td>2</td>\n",
       "      <td></td>\n",
       "    </tr>\n",
       "    <tr>\n",
       "      <th>3</th>\n",
       "      <td>2019-07-25 15:00</td>\n",
       "      <td>-</td>\n",
       "      <td>-</td>\n",
       "      <td>-</td>\n",
       "      <td>-</td>\n",
       "      <td>-</td>\n",
       "      <td>-</td>\n",
       "      <td></td>\n",
       "      <td></td>\n",
       "      <td></td>\n",
       "      <td></td>\n",
       "      <td></td>\n",
       "      <td></td>\n",
       "    </tr>\n",
       "    <tr>\n",
       "      <th>4</th>\n",
       "      <td>2019-07-25 14:00</td>\n",
       "      <td>-</td>\n",
       "      <td>-</td>\n",
       "      <td>-</td>\n",
       "      <td>-</td>\n",
       "      <td>-</td>\n",
       "      <td>-</td>\n",
       "      <td></td>\n",
       "      <td></td>\n",
       "      <td></td>\n",
       "      <td></td>\n",
       "      <td></td>\n",
       "      <td>1</td>\n",
       "    </tr>\n",
       "    <tr>\n",
       "      <th>5</th>\n",
       "      <td>2019-07-25 13:00</td>\n",
       "      <td>0.002</td>\n",
       "      <td>0.5</td>\n",
       "      <td>0.014</td>\n",
       "      <td>0.036</td>\n",
       "      <td>27</td>\n",
       "      <td>59</td>\n",
       "      <td>2</td>\n",
       "      <td>1</td>\n",
       "      <td>1</td>\n",
       "      <td>1</td>\n",
       "      <td>2</td>\n",
       "      <td>1</td>\n",
       "    </tr>\n",
       "    <tr>\n",
       "      <th>6</th>\n",
       "      <td>2019-07-25 12:00</td>\n",
       "      <td>0.002</td>\n",
       "      <td>0.5</td>\n",
       "      <td>0.015</td>\n",
       "      <td>0.037</td>\n",
       "      <td>20</td>\n",
       "      <td>61</td>\n",
       "      <td>2</td>\n",
       "      <td>1</td>\n",
       "      <td>1</td>\n",
       "      <td>1</td>\n",
       "      <td>2</td>\n",
       "      <td>1</td>\n",
       "    </tr>\n",
       "    <tr>\n",
       "      <th>7</th>\n",
       "      <td>2019-07-25 11:00</td>\n",
       "      <td>0.002</td>\n",
       "      <td>0.4</td>\n",
       "      <td>0.014</td>\n",
       "      <td>0.030</td>\n",
       "      <td>16</td>\n",
       "      <td>54</td>\n",
       "      <td>2</td>\n",
       "      <td>1</td>\n",
       "      <td>1</td>\n",
       "      <td>1</td>\n",
       "      <td>1</td>\n",
       "      <td>1</td>\n",
       "    </tr>\n",
       "    <tr>\n",
       "      <th>8</th>\n",
       "      <td>2019-07-25 10:00</td>\n",
       "      <td>0.002</td>\n",
       "      <td>0.4</td>\n",
       "      <td>0.005</td>\n",
       "      <td>0.032</td>\n",
       "      <td>15</td>\n",
       "      <td>59</td>\n",
       "      <td>2</td>\n",
       "      <td>1</td>\n",
       "      <td>1</td>\n",
       "      <td>1</td>\n",
       "      <td>2</td>\n",
       "      <td>1</td>\n",
       "    </tr>\n",
       "    <tr>\n",
       "      <th>9</th>\n",
       "      <td>2019-07-25 09:00</td>\n",
       "      <td>0.002</td>\n",
       "      <td>0.4</td>\n",
       "      <td>0.003</td>\n",
       "      <td>0.027</td>\n",
       "      <td>20</td>\n",
       "      <td>64</td>\n",
       "      <td>2</td>\n",
       "      <td>1</td>\n",
       "      <td>1</td>\n",
       "      <td>1</td>\n",
       "      <td>1</td>\n",
       "      <td>1</td>\n",
       "    </tr>\n",
       "  </tbody>\n",
       "</table>\n",
       "</div>"
      ],
      "text/plain": [
       "           datatime so2value covalue o3value no2value pm10value khaivalue  \\\n",
       "0  2019-07-25 18:00    0.002     0.6   0.020    0.038        35        66   \n",
       "1  2019-07-25 17:00    0.002     0.6   0.022    0.035        38         -   \n",
       "2  2019-07-25 16:00    0.002     0.4   0.020    0.033        21         -   \n",
       "3  2019-07-25 15:00        -       -       -        -         -         -   \n",
       "4  2019-07-25 14:00        -       -       -        -         -         -   \n",
       "5  2019-07-25 13:00    0.002     0.5   0.014    0.036        27        59   \n",
       "6  2019-07-25 12:00    0.002     0.5   0.015    0.037        20        61   \n",
       "7  2019-07-25 11:00    0.002     0.4   0.014    0.030        16        54   \n",
       "8  2019-07-25 10:00    0.002     0.4   0.005    0.032        15        59   \n",
       "9  2019-07-25 09:00    0.002     0.4   0.003    0.027        20        64   \n",
       "\n",
       "  khaigrade so2grade cograde o3grade no2grade pm10grade  \n",
       "0         2        1       1       1        2         1  \n",
       "1                  1       1       1        2            \n",
       "2                  1       1       1        2            \n",
       "3                                                        \n",
       "4                                                     1  \n",
       "5         2        1       1       1        2         1  \n",
       "6         2        1       1       1        2         1  \n",
       "7         2        1       1       1        1         1  \n",
       "8         2        1       1       1        2         1  \n",
       "9         2        1       1       1        1         1  "
      ]
     },
     "execution_count": 15,
     "metadata": {},
     "output_type": "execute_result"
    }
   ],
   "source": [
    "airResult"
   ]
  },
  {
   "cell_type": "markdown",
   "metadata": {},
   "source": [
    "# 1. 대기오염 나쁨관측소 정보 실습문제 정답"
   ]
  },
  {
   "cell_type": "markdown",
   "metadata": {},
   "source": [
    "### 1. 라이브러리 선언"
   ]
  },
  {
   "cell_type": "code",
   "execution_count": 1,
   "metadata": {},
   "outputs": [],
   "source": [
    "import requests\n",
    "import pandas as pd\n",
    "from bs4 import BeautifulSoup\n",
    "from lxml import html"
   ]
  },
  {
   "cell_type": "markdown",
   "metadata": {},
   "source": [
    "### 2. url 정보 입력"
   ]
  },
  {
   "cell_type": "code",
   "execution_count": 2,
   "metadata": {},
   "outputs": [],
   "source": [
    "url=\"http://openapi.airkorea.or.kr/openapi/services/rest/ArpltnInforInqireSvc/getUnityAirEnvrnIdexSnstiveAboveMsrstnList?pageNo=1&numOfRows=10&ServiceKey=AT33s775KYpJOkUBJu0dxkJuUeIfDIOJRzAH084EQS3JN%2BzFjErLHuk%2FGZa9L4gBTSGCzeA69tI9PwLp7B37IQ%3D%3D\""
   ]
  },
  {
   "cell_type": "markdown",
   "metadata": {},
   "source": [
    "### 3. xml 태그 파싱"
   ]
  },
  {
   "cell_type": "code",
   "execution_count": 3,
   "metadata": {},
   "outputs": [],
   "source": [
    "resp = requests.get(url)\n",
    "xmlobj = BeautifulSoup(resp.text,\"lxml\")"
   ]
  },
  {
   "cell_type": "markdown",
   "metadata": {},
   "source": [
    "### 4. xml 데이터 크롤링"
   ]
  },
  {
   "cell_type": "code",
   "execution_count": 4,
   "metadata": {},
   "outputs": [],
   "source": [
    "columnList = []\n",
    "rowList = []\n",
    "columnNameList = []\n",
    "rows = xmlobj.find_all(\"item\")\n",
    "\n",
    "for i in range(0, len(rows)):\n",
    "    columns = rows[i].find_all()\n",
    "    for j in range(0, len(columns)):\n",
    "        if i==0:\n",
    "            columnNameList.append(columns[j].name)\n",
    "        columnList.append(columns[j].text)\n",
    "    rowList.append(columnList)\n",
    "    columnList=[]"
   ]
  },
  {
   "cell_type": "code",
   "execution_count": 5,
   "metadata": {},
   "outputs": [],
   "source": [
    "airResult = pd.DataFrame(rowList)"
   ]
  },
  {
   "cell_type": "code",
   "execution_count": 6,
   "metadata": {},
   "outputs": [],
   "source": [
    "airResult.columns = columnNameList"
   ]
  },
  {
   "cell_type": "code",
   "execution_count": 7,
   "metadata": {},
   "outputs": [
    {
     "data": {
      "text/html": [
       "<div>\n",
       "<style scoped>\n",
       "    .dataframe tbody tr th:only-of-type {\n",
       "        vertical-align: middle;\n",
       "    }\n",
       "\n",
       "    .dataframe tbody tr th {\n",
       "        vertical-align: top;\n",
       "    }\n",
       "\n",
       "    .dataframe thead th {\n",
       "        text-align: right;\n",
       "    }\n",
       "</style>\n",
       "<table border=\"1\" class=\"dataframe\">\n",
       "  <thead>\n",
       "    <tr style=\"text-align: right;\">\n",
       "      <th></th>\n",
       "      <th>stationname</th>\n",
       "      <th>addr</th>\n",
       "    </tr>\n",
       "  </thead>\n",
       "  <tbody>\n",
       "    <tr>\n",
       "      <th>0</th>\n",
       "      <td>강변북로</td>\n",
       "      <td>서울 성동구 강변북로 257한강사업본부 옆</td>\n",
       "    </tr>\n",
       "  </tbody>\n",
       "</table>\n",
       "</div>"
      ],
      "text/plain": [
       "  stationname                     addr\n",
       "0        강변북로  서울 성동구 강변북로 257한강사업본부 옆"
      ]
     },
     "execution_count": 7,
     "metadata": {},
     "output_type": "execute_result"
    }
   ],
   "source": [
    "airResult.head(5)"
   ]
  },
  {
   "cell_type": "markdown",
   "metadata": {},
   "source": [
    "# 2. 쿠팡실습문제 정답"
   ]
  },
  {
   "cell_type": "markdown",
   "metadata": {},
   "source": [
    "### 1. 페이지 스크랩"
   ]
  },
  {
   "cell_type": "code",
   "execution_count": 24,
   "metadata": {},
   "outputs": [
    {
     "name": "stdout",
     "output_type": "stream",
     "text": [
      "                            product_name product_price\n",
      "0          더마시나 무항생제 구운계란60구, 1개, 2,100g        10,300\n",
      "1  [ 계란사랑 ] 맥반석 구운계란 구운란 60구 (2판), 2700g        10,900\n",
      "2               맛군 촉촉 쫄깃 구운 계란, 30알, 1박스         7,900\n",
      "3           참나무촌 무염훈제계란, 30개입, 1.2kg(한판)         6,200\n",
      "4          진주햄 오마이 포켓 메추리알 5p, 25g, 10개입         9,640\n",
      "                                        product_name product_price\n",
      "0  살림살이몰 HACCP 구운계란 3판 2판 1판 맥반석계란 구운란, 30구, 1구당 ...         7,700\n",
      "1            가농금계란 DHA 오메가-3 1+등급 특란 40알, 1박스, 2.4kg        17,900\n",
      "2                                 닭대리의 살균난백, 1kg, 4병        21,000\n",
      "3                 탱글탱글 진공 구운계란 120g x 30팩 (90구), 90구        25,900\n",
      "4                  달군스토어 [HACCP] 무항생제 구운계란, 35g, 60개        15,000\n",
      "                                        product_name product_price\n",
      "0                      [만나박스] 무항생제 동물복지 유정란(10구), 1팩         5,500\n",
      "1                     미스터유 참숯 구운란 훈제 맥반석구운계란 60구, 대란        12,500\n",
      "2              명품구운란 구운계란 맥반석계란 구운란 대란 10구 x 5개, 50구        16,900\n",
      "3  [대보유통몰도리도리] 냉동 닭발 1kg 2봉 / 육수용 토종닭 닭발, 냉동 닭발 1...         8,900\n",
      "4                              오랩 더 부드러운 치즈맛 오믈렛, 1개         2,170\n"
     ]
    }
   ],
   "source": [
    "import requests\n",
    "from bs4 import BeautifulSoup\n",
    "\n",
    "alldf=[]\n",
    "for i in range(0, 3):\n",
    "    url = 'https://www.coupang.com/np/categories/194810?page='+str(i+1)\n",
    "\n",
    "    headers = {'User-Agent': 'Mozilla/5.0 (Macintosh; Intel Mac OS X 10_13_6) AppleWebKit/537.36 (KHTML, like Gecko) Chrome/68.0.3440.106 Safari/537.36',}\n",
    "    data=requests.get(url,headers=headers)\n",
    "    bsObj = BeautifulSoup(data.text, \"html.parser\")\n",
    "\n",
    "    ul = bsObj.find(\"ul\", {\"id\":\"productList\"})\n",
    "    lis = ul.findAll(\"li\")\n",
    "\n",
    "    nameList= []\n",
    "    priceList = []\n",
    "\n",
    "    for i in range(0,len(lis)):\n",
    "        step1 = lis[i].find(\"dt\",{\"class\":\"image\"}).find(\"img\")\n",
    "        nameList.append(step1.attrs[\"alt\"])\n",
    "        step2 = lis[i].find(\"em\",{\"class\",\"sale\"})\n",
    "        priceList.append(step2.find(\"strong\").text)\n",
    "\n",
    "    len(nameList)\n",
    "\n",
    "    len(priceList)\n",
    "\n",
    "    import pandas as pd\n",
    "    coupResult = pd.DataFrame(zip(nameList,priceList))\n",
    "    coupResult.columns = [\"product_name\",\"product_price\"]\n",
    "    alldf.append(coupResult)\n",
    "    print(coupResult.head())"
   ]
  },
  {
   "cell_type": "code",
   "execution_count": 28,
   "metadata": {},
   "outputs": [],
   "source": [
    "alldf = pd.concat(alldf, axis=0)"
   ]
  },
  {
   "cell_type": "markdown",
   "metadata": {},
   "source": [
    "### 2. 반복패턴 접근"
   ]
  },
  {
   "cell_type": "code",
   "execution_count": null,
   "metadata": {},
   "outputs": [],
   "source": [
    "ul = bsObj.find(\"ul\", {\"id\":\"productList\"})\n",
    "lis = ul.findAll(\"li\")"
   ]
  },
  {
   "cell_type": "markdown",
   "metadata": {},
   "source": [
    "### 3. 데이터 크롤링"
   ]
  },
  {
   "cell_type": "code",
   "execution_count": 8,
   "metadata": {
    "scrolled": true
   },
   "outputs": [
    {
     "data": {
      "text/html": [
       "<div>\n",
       "<style scoped>\n",
       "    .dataframe tbody tr th:only-of-type {\n",
       "        vertical-align: middle;\n",
       "    }\n",
       "\n",
       "    .dataframe tbody tr th {\n",
       "        vertical-align: top;\n",
       "    }\n",
       "\n",
       "    .dataframe thead th {\n",
       "        text-align: right;\n",
       "    }\n",
       "</style>\n",
       "<table border=\"1\" class=\"dataframe\">\n",
       "  <thead>\n",
       "    <tr style=\"text-align: right;\">\n",
       "      <th></th>\n",
       "      <th>product_name</th>\n",
       "      <th>product_price</th>\n",
       "    </tr>\n",
       "  </thead>\n",
       "  <tbody>\n",
       "    <tr>\n",
       "      <th>0</th>\n",
       "      <td>더마시나 무항생제 구운계란60구, 1개, 2,100g</td>\n",
       "      <td>10,300</td>\n",
       "    </tr>\n",
       "    <tr>\n",
       "      <th>1</th>\n",
       "      <td>맛군 촉촉 쫄깃 구운 계란, 30알, 1박스</td>\n",
       "      <td>7,900</td>\n",
       "    </tr>\n",
       "    <tr>\n",
       "      <th>2</th>\n",
       "      <td>[ 계란사랑 ] 맥반석 구운계란 구운란 60구 (2판), 2700g</td>\n",
       "      <td>10,900</td>\n",
       "    </tr>\n",
       "    <tr>\n",
       "      <th>3</th>\n",
       "      <td>참나무촌 무염훈제계란, 30개입, 1.2kg(한판)</td>\n",
       "      <td>6,200</td>\n",
       "    </tr>\n",
       "    <tr>\n",
       "      <th>4</th>\n",
       "      <td>오복유통 HACCP인증 구운계란 2판60구, 60구, 2판</td>\n",
       "      <td>13,500</td>\n",
       "    </tr>\n",
       "  </tbody>\n",
       "</table>\n",
       "</div>"
      ],
      "text/plain": [
       "                            product_name product_price\n",
       "0          더마시나 무항생제 구운계란60구, 1개, 2,100g        10,300\n",
       "1               맛군 촉촉 쫄깃 구운 계란, 30알, 1박스         7,900\n",
       "2  [ 계란사랑 ] 맥반석 구운계란 구운란 60구 (2판), 2700g        10,900\n",
       "3           참나무촌 무염훈제계란, 30개입, 1.2kg(한판)         6,200\n",
       "4       오복유통 HACCP인증 구운계란 2판60구, 60구, 2판        13,500"
      ]
     },
     "execution_count": 8,
     "metadata": {},
     "output_type": "execute_result"
    }
   ],
   "source": [
    "nameList= []\n",
    "priceList = []\n",
    "\n",
    "for i in range(0,len(lis)):\n",
    "    step1 = lis[i].find(\"dt\",{\"class\":\"image\"}).find(\"img\")\n",
    "    nameList.append(step1.attrs[\"alt\"])\n",
    "    step2 = lis[i].find(\"em\",{\"class\",\"sale\"})\n",
    "    priceList.append(step2.find(\"strong\").text)\n",
    "\n",
    "len(nameList)\n",
    "\n",
    "len(priceList)\n",
    "\n",
    "import pandas as pd\n",
    "coupResult = pd.DataFrame(zip(nameList,priceList))\n",
    "coupResult.columns = [\"product_name\",\"product_price\"]\n",
    "coupResult.head()"
   ]
  },
  {
   "cell_type": "markdown",
   "metadata": {},
   "source": [
    "# 3. time and date sitem"
   ]
  },
  {
   "cell_type": "markdown",
   "metadata": {},
   "source": [
    "https://www.timeanddate.com/holidays/south-korea/"
   ]
  },
  {
   "cell_type": "markdown",
   "metadata": {},
   "source": [
    "### 1. url 요청 및 html 파싱"
   ]
  },
  {
   "cell_type": "code",
   "execution_count": 23,
   "metadata": {},
   "outputs": [],
   "source": [
    "url = \"https://www.timeanddate.com/holidays/south-korea/\"\n",
    "resp = requests.get(url)\n",
    "\n",
    "websource = resp.text\n",
    "bsobj = BeautifulSoup(websource, \"html.parser\")"
   ]
  },
  {
   "cell_type": "markdown",
   "metadata": {},
   "source": [
    "### 2. 헤더정보 크롤링"
   ]
  },
  {
   "cell_type": "code",
   "execution_count": 24,
   "metadata": {},
   "outputs": [],
   "source": [
    "thead = bsobj.select_one(\"#holidays-table > thead\")"
   ]
  },
  {
   "cell_type": "code",
   "execution_count": 25,
   "metadata": {},
   "outputs": [],
   "source": [
    "iter_th = thead.find_all(\"th\")"
   ]
  },
  {
   "cell_type": "code",
   "execution_count": 26,
   "metadata": {},
   "outputs": [
    {
     "data": {
      "text/plain": [
       "['Date', '\\xa0', 'Name', 'Type']"
      ]
     },
     "execution_count": 26,
     "metadata": {},
     "output_type": "execute_result"
    }
   ],
   "source": [
    "hcontent=[]\n",
    "\n",
    "for th in iter_th:\n",
    "    hcontent.append(th.text)\n",
    "\n",
    "hcontent"
   ]
  },
  {
   "cell_type": "markdown",
   "metadata": {},
   "source": [
    "### 3. 데이터정보 크롤링"
   ]
  },
  {
   "cell_type": "code",
   "execution_count": 27,
   "metadata": {},
   "outputs": [],
   "source": [
    "tbody = bsobj.select_one(\"#holidays-table > tbody\")"
   ]
  },
  {
   "cell_type": "code",
   "execution_count": 28,
   "metadata": {},
   "outputs": [],
   "source": [
    "iter_tr = tbody.find_all(\"tr\")"
   ]
  },
  {
   "cell_type": "code",
   "execution_count": 29,
   "metadata": {},
   "outputs": [],
   "source": [
    "content=[]\n",
    "allcontent=[]\n",
    "\n",
    "#rows = iter_tr[0]\n",
    "\n",
    "content=[]\n",
    "allcontent=[]\n",
    "\n",
    "for rows in iter_tr:\n",
    "    if rows.text==\"\":\n",
    "        continue\n",
    "    ths = rows.find_all(\"th\")\n",
    "    for th in ths:\n",
    "        content.append(th.text)\n",
    "    tds = rows.find_all(\"td\")\n",
    "    for td in tds:\n",
    "        content.append(td.text)\n",
    "    allcontent.append(content)\n",
    "    content=[]"
   ]
  },
  {
   "cell_type": "code",
   "execution_count": 32,
   "metadata": {},
   "outputs": [],
   "source": [
    "result = pd.DataFrame(allcontent)"
   ]
  },
  {
   "cell_type": "code",
   "execution_count": 33,
   "metadata": {},
   "outputs": [],
   "source": [
    "result.columns = hcontent"
   ]
  },
  {
   "cell_type": "code",
   "execution_count": 34,
   "metadata": {},
   "outputs": [
    {
     "data": {
      "text/html": [
       "<div>\n",
       "<style scoped>\n",
       "    .dataframe tbody tr th:only-of-type {\n",
       "        vertical-align: middle;\n",
       "    }\n",
       "\n",
       "    .dataframe tbody tr th {\n",
       "        vertical-align: top;\n",
       "    }\n",
       "\n",
       "    .dataframe thead th {\n",
       "        text-align: right;\n",
       "    }\n",
       "</style>\n",
       "<table border=\"1\" class=\"dataframe\">\n",
       "  <thead>\n",
       "    <tr style=\"text-align: right;\">\n",
       "      <th></th>\n",
       "      <th>Date</th>\n",
       "      <th></th>\n",
       "      <th>Name</th>\n",
       "      <th>Type</th>\n",
       "    </tr>\n",
       "  </thead>\n",
       "  <tbody>\n",
       "    <tr>\n",
       "      <th>0</th>\n",
       "      <td>1월 1일</td>\n",
       "      <td>화요일</td>\n",
       "      <td>New Year's Day</td>\n",
       "      <td>Public Holiday</td>\n",
       "    </tr>\n",
       "    <tr>\n",
       "      <th>1</th>\n",
       "      <td>2월 4일</td>\n",
       "      <td>월요일</td>\n",
       "      <td>Seollal Holiday</td>\n",
       "      <td>Public Holiday</td>\n",
       "    </tr>\n",
       "    <tr>\n",
       "      <th>2</th>\n",
       "      <td>2월 5일</td>\n",
       "      <td>화요일</td>\n",
       "      <td>Seollal</td>\n",
       "      <td>Public Holiday</td>\n",
       "    </tr>\n",
       "    <tr>\n",
       "      <th>3</th>\n",
       "      <td>2월 6일</td>\n",
       "      <td>수요일</td>\n",
       "      <td>Seollal Holiday</td>\n",
       "      <td>Public Holiday</td>\n",
       "    </tr>\n",
       "    <tr>\n",
       "      <th>4</th>\n",
       "      <td>2월 14일</td>\n",
       "      <td>목요일</td>\n",
       "      <td>Valentine's Day</td>\n",
       "      <td>Observance</td>\n",
       "    </tr>\n",
       "  </tbody>\n",
       "</table>\n",
       "</div>"
      ],
      "text/plain": [
       "     Date                  Name            Type\n",
       "0   1월 1일  화요일   New Year's Day  Public Holiday\n",
       "1   2월 4일  월요일  Seollal Holiday  Public Holiday\n",
       "2   2월 5일  화요일          Seollal  Public Holiday\n",
       "3   2월 6일  수요일  Seollal Holiday  Public Holiday\n",
       "4  2월 14일  목요일  Valentine's Day      Observance"
      ]
     },
     "execution_count": 34,
     "metadata": {},
     "output_type": "execute_result"
    }
   ],
   "source": [
    "result.head()"
   ]
  }
 ],
 "metadata": {
  "kernelspec": {
   "display_name": "Python 3",
   "language": "python",
   "name": "python3"
  },
  "language_info": {
   "codemirror_mode": {
    "name": "ipython",
    "version": 3
   },
   "file_extension": ".py",
   "mimetype": "text/x-python",
   "name": "python",
   "nbconvert_exporter": "python",
   "pygments_lexer": "ipython3",
   "version": "3.7.3"
  }
 },
 "nbformat": 4,
 "nbformat_minor": 2
}
