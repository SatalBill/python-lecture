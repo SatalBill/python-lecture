{
 "cells": [
  {
   "cell_type": "markdown",
   "metadata": {},
   "source": [
    "### Data load from pdf"
   ]
  },
  {
   "cell_type": "code",
   "execution_count": 6,
   "metadata": {},
   "outputs": [],
   "source": [
    "#table,표를 다룰 때 사용하는 모듈\n",
    "import tabula \n",
    "#pdf 에서 표를 읽을 때 필요한 모듈, wrapper.read_pdf 로 사용\n",
    "from tabula import wrapper "
   ]
  },
  {
   "cell_type": "code",
   "execution_count": 9,
   "metadata": {},
   "outputs": [],
   "source": [
    "tables = wrapper.read_pdf(\"../dataset/190719_금융시장동향(오후).pdf\",\n",
    "                 multiple_tables=True,\n",
    "                 pages=\"all\",\n",
    "                 pandas_options={\"header\":0})"
   ]
  },
  {
   "cell_type": "code",
   "execution_count": 46,
   "metadata": {},
   "outputs": [
    {
     "data": {
      "text/plain": [
       "list"
      ]
     },
     "execution_count": 46,
     "metadata": {},
     "output_type": "execute_result"
    }
   ],
   "source": [
    "type(tables)"
   ]
  },
  {
   "cell_type": "code",
   "execution_count": 48,
   "metadata": {},
   "outputs": [
    {
     "data": {
      "text/html": [
       "<div>\n",
       "<style scoped>\n",
       "    .dataframe tbody tr th:only-of-type {\n",
       "        vertical-align: middle;\n",
       "    }\n",
       "\n",
       "    .dataframe tbody tr th {\n",
       "        vertical-align: top;\n",
       "    }\n",
       "\n",
       "    .dataframe thead th {\n",
       "        text-align: right;\n",
       "    }\n",
       "</style>\n",
       "<table border=\"1\" class=\"dataframe\">\n",
       "  <thead>\n",
       "    <tr style=\"text-align: right;\">\n",
       "      <th></th>\n",
       "      <th>(단위:pt)</th>\n",
       "      <th>18년말</th>\n",
       "      <th>7.12</th>\n",
       "      <th>7.18</th>\n",
       "      <th>7.19</th>\n",
       "      <th>전일비</th>\n",
       "      <th>전주비</th>\n",
       "      <th>18년말비</th>\n",
       "    </tr>\n",
       "  </thead>\n",
       "  <tbody>\n",
       "    <tr>\n",
       "      <th>0</th>\n",
       "      <td>KOSPI</td>\n",
       "      <td>2,041</td>\n",
       "      <td>2,087</td>\n",
       "      <td>2,067</td>\n",
       "      <td>2,094</td>\n",
       "      <td>+1.3%</td>\n",
       "      <td>+0.4%</td>\n",
       "      <td>+2.6%</td>\n",
       "    </tr>\n",
       "    <tr>\n",
       "      <th>1</th>\n",
       "      <td>KOSDAQ</td>\n",
       "      <td>676</td>\n",
       "      <td>681</td>\n",
       "      <td>665</td>\n",
       "      <td>674</td>\n",
       "      <td>+1.3%</td>\n",
       "      <td>△1.0%</td>\n",
       "      <td>△0.2%</td>\n",
       "    </tr>\n",
       "  </tbody>\n",
       "</table>\n",
       "</div>"
      ],
      "text/plain": [
       "  (단위:pt)   18년말   7.12   7.18   7.19    전일비    전주비  18년말비\n",
       "0   KOSPI  2,041  2,087  2,067  2,094  +1.3%  +0.4%  +2.6%\n",
       "1  KOSDAQ    676    681    665    674  +1.3%  △1.0%  △0.2%"
      ]
     },
     "execution_count": 48,
     "metadata": {},
     "output_type": "execute_result"
    }
   ],
   "source": [
    "tables[0]"
   ]
  },
  {
   "cell_type": "code",
   "execution_count": 24,
   "metadata": {},
   "outputs": [],
   "source": [
    "from datetime import datetime\n",
    "\n",
    "today = datetime.today()\n",
    "\n",
    "currentyear = today.year\n",
    "currentmonth = today.month\n",
    "currentday = today.day\n",
    "\n",
    "currentdate = str(currentyear)+str(currentmonth)+str(currentday)"
   ]
  },
  {
   "cell_type": "markdown",
   "metadata": {},
   "source": [
    "### 3. 파일로 저장"
   ]
  },
  {
   "cell_type": "code",
   "execution_count": 44,
   "metadata": {},
   "outputs": [],
   "source": [
    "for i in range(0, len(tables)):\n",
    "    filename = currentdate + \"_금융시장동향_\" + str(i) + \".csv\"\n",
    "    tables[i].to_csv(\"./\"+filename, index=False, encoding=\"ms949\")"
   ]
  },
  {
   "cell_type": "code",
   "execution_count": null,
   "metadata": {},
   "outputs": [],
   "source": []
  },
  {
   "cell_type": "code",
   "execution_count": null,
   "metadata": {},
   "outputs": [],
   "source": []
  },
  {
   "cell_type": "code",
   "execution_count": 1,
   "metadata": {},
   "outputs": [],
   "source": [
    "from bs4 import BeautifulSoup\n",
    "import requests"
   ]
  },
  {
   "cell_type": "code",
   "execution_count": 2,
   "metadata": {},
   "outputs": [],
   "source": [
    "url = \"http://fsc.go.kr/info/trd_list.jsp?menu=7230000&bbsid=BBS0069\""
   ]
  },
  {
   "cell_type": "code",
   "execution_count": 6,
   "metadata": {},
   "outputs": [],
   "source": [
    "urlobj = requests.get(url)"
   ]
  },
  {
   "cell_type": "code",
   "execution_count": 7,
   "metadata": {},
   "outputs": [],
   "source": [
    "bsobj = BeautifulSoup(urlobj.text,\"html.parser\")"
   ]
  },
  {
   "cell_type": "code",
   "execution_count": 17,
   "metadata": {},
   "outputs": [],
   "source": [
    "tbody = bsobj.select_one(\"#contents > div.board > table > tbody\")"
   ]
  },
  {
   "cell_type": "code",
   "execution_count": 28,
   "metadata": {},
   "outputs": [],
   "source": [
    "firstrow = tbody.find_all(\"tr\", limit=1)"
   ]
  },
  {
   "cell_type": "code",
   "execution_count": 29,
   "metadata": {},
   "outputs": [
    {
     "data": {
      "text/plain": [
       "[<tr>\n",
       " <td scope=\"row\">3695</td>\n",
       " <td><a href=\"/info/trd_view.jsp?bbsid=BBS0069&amp;page=1&amp;sch1=&amp;sch2=&amp;sch3=&amp;sword=&amp;r_url=&amp;menu=7230000&amp;no=36508\" title=\"새창열기\">금융시장동향(19.7.22)</a></td>\n",
       " <td>2019-07-22</td>\n",
       " <td>1</td>\n",
       " <td><a href=\"/downManager?bbsid=BBS0069&amp;no=141218\" target=\"invisible\" title=\"새창열기\"><img alt=\"아래아한글 문서\" src=\"/images/common/ico_file_hangul.gif\"/> </a><a href=\"/downManager?bbsid=BBS0069&amp;no=141219\" target=\"invisible\" title=\"새창열기\"><img alt=\"PDF 문서\" src=\"/images/common/ico_file_pdf.gif\"/> </a></td>\n",
       " </tr>]"
      ]
     },
     "execution_count": 29,
     "metadata": {},
     "output_type": "execute_result"
    }
   ],
   "source": [
    "firstrow"
   ]
  },
  {
   "cell_type": "code",
   "execution_count": 30,
   "metadata": {},
   "outputs": [
    {
     "data": {
      "text/plain": [
       "bs4.element.ResultSet"
      ]
     },
     "execution_count": 30,
     "metadata": {},
     "output_type": "execute_result"
    }
   ],
   "source": [
    "type(firstrow)"
   ]
  },
  {
   "cell_type": "code",
   "execution_count": 31,
   "metadata": {},
   "outputs": [
    {
     "data": {
      "text/plain": [
       "<tr>\n",
       "<td scope=\"row\">3695</td>\n",
       "<td><a href=\"/info/trd_view.jsp?bbsid=BBS0069&amp;page=1&amp;sch1=&amp;sch2=&amp;sch3=&amp;sword=&amp;r_url=&amp;menu=7230000&amp;no=36508\" title=\"새창열기\">금융시장동향(19.7.22)</a></td>\n",
       "<td>2019-07-22</td>\n",
       "<td>1</td>\n",
       "<td><a href=\"/downManager?bbsid=BBS0069&amp;no=141218\" target=\"invisible\" title=\"새창열기\"><img alt=\"아래아한글 문서\" src=\"/images/common/ico_file_hangul.gif\"/> </a><a href=\"/downManager?bbsid=BBS0069&amp;no=141219\" target=\"invisible\" title=\"새창열기\"><img alt=\"PDF 문서\" src=\"/images/common/ico_file_pdf.gif\"/> </a></td>\n",
       "</tr>"
      ]
     },
     "execution_count": 31,
     "metadata": {},
     "output_type": "execute_result"
    }
   ],
   "source": [
    "firstrow[0]"
   ]
  },
  {
   "cell_type": "code",
   "execution_count": 35,
   "metadata": {},
   "outputs": [],
   "source": [
    "alinks = firstrow[0].find_all(\"a\")"
   ]
  },
  {
   "cell_type": "code",
   "execution_count": 36,
   "metadata": {},
   "outputs": [
    {
     "data": {
      "text/plain": [
       "3"
      ]
     },
     "execution_count": 36,
     "metadata": {},
     "output_type": "execute_result"
    }
   ],
   "source": [
    "len(alinks)"
   ]
  },
  {
   "cell_type": "code",
   "execution_count": 40,
   "metadata": {},
   "outputs": [],
   "source": [
    "link = alinks[len(alinks)-1]"
   ]
  },
  {
   "cell_type": "code",
   "execution_count": 42,
   "metadata": {},
   "outputs": [
    {
     "data": {
      "text/plain": [
       "bs4.element.Tag"
      ]
     },
     "execution_count": 42,
     "metadata": {},
     "output_type": "execute_result"
    }
   ],
   "source": [
    "type(link)"
   ]
  },
  {
   "cell_type": "code",
   "execution_count": 44,
   "metadata": {},
   "outputs": [],
   "source": [
    "downloadhead = \"http://fsc.go.kr/downManager?\""
   ]
  },
  {
   "cell_type": "code",
   "execution_count": 46,
   "metadata": {},
   "outputs": [],
   "source": [
    "downno = link.attrs[\"href\"].split(\"?\")[1]"
   ]
  },
  {
   "cell_type": "code",
   "execution_count": 48,
   "metadata": {},
   "outputs": [],
   "source": [
    "fullurl = downloadhead+downno"
   ]
  },
  {
   "cell_type": "code",
   "execution_count": 53,
   "metadata": {},
   "outputs": [
    {
     "data": {
      "text/plain": [
       "'http://fsc.go.kr/downManager?bbsid=BBS0069&no=141219'"
      ]
     },
     "execution_count": 53,
     "metadata": {},
     "output_type": "execute_result"
    }
   ],
   "source": [
    "fullurl"
   ]
  },
  {
   "cell_type": "code",
   "execution_count": 49,
   "metadata": {},
   "outputs": [],
   "source": [
    "#table,표를 다룰 때 사용하는 모듈\n",
    "import tabula \n",
    "#pdf 에서 표를 읽을 때 필요한 모듈, wrapper.read_pdf 로 사용\n",
    "from tabula import wrapper "
   ]
  },
  {
   "cell_type": "code",
   "execution_count": 54,
   "metadata": {},
   "outputs": [],
   "source": [
    "tables = wrapper.read_pdf(fullurl,\n",
    "                 multiple_tables=True,\n",
    "                 pages=\"all\",\n",
    "                 pandas_options={\"header\":0})"
   ]
  }
 ],
 "metadata": {
  "kernelspec": {
   "display_name": "Python 3",
   "language": "python",
   "name": "python3"
  },
  "language_info": {
   "codemirror_mode": {
    "name": "ipython",
    "version": 3
   },
   "file_extension": ".py",
   "mimetype": "text/x-python",
   "name": "python",
   "nbconvert_exporter": "python",
   "pygments_lexer": "ipython3",
   "version": "3.7.3"
  }
 },
 "nbformat": 4,
 "nbformat_minor": 2
}
